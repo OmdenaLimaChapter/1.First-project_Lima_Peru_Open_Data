{
 "cells": [
  {
   "cell_type": "markdown",
   "id": "0a2f5785",
   "metadata": {},
   "source": [
    "# Lima & Callao - COVID Deaths Analysis"
   ]
  },
  {
   "cell_type": "code",
   "execution_count": 1,
   "id": "6dd48917",
   "metadata": {},
   "outputs": [],
   "source": [
    "import numpy as np\n",
    "import pandas as pd\n",
    "from tqdm.auto import tqdm"
   ]
  },
  {
   "cell_type": "code",
   "execution_count": 2,
   "id": "08864f94",
   "metadata": {},
   "outputs": [],
   "source": [
    "df = pd.read_csv('Lima & Callo Covid Deaths Cleaned Dataset.csv')"
   ]
  },
  {
   "cell_type": "code",
   "execution_count": 3,
   "id": "3c2b1bcb",
   "metadata": {},
   "outputs": [
    {
     "data": {
      "text/html": [
       "<div>\n",
       "<style scoped>\n",
       "    .dataframe tbody tr th:only-of-type {\n",
       "        vertical-align: middle;\n",
       "    }\n",
       "\n",
       "    .dataframe tbody tr th {\n",
       "        vertical-align: top;\n",
       "    }\n",
       "\n",
       "    .dataframe thead th {\n",
       "        text-align: right;\n",
       "    }\n",
       "</style>\n",
       "<table border=\"1\" class=\"dataframe\">\n",
       "  <thead>\n",
       "    <tr style=\"text-align: right;\">\n",
       "      <th></th>\n",
       "      <th>CUT OFF DATE</th>\n",
       "      <th>DEATH DATE</th>\n",
       "      <th>AGE</th>\n",
       "      <th>SEX</th>\n",
       "      <th>CLASSIFICATION</th>\n",
       "      <th>DEPARTMENT</th>\n",
       "      <th>PROVINCE</th>\n",
       "      <th>DISTRICT</th>\n",
       "      <th>UBIGEO</th>\n",
       "      <th>UUID</th>\n",
       "    </tr>\n",
       "  </thead>\n",
       "  <tbody>\n",
       "    <tr>\n",
       "      <th>0</th>\n",
       "      <td>23-10-2023</td>\n",
       "      <td>15-04-2021</td>\n",
       "      <td>56</td>\n",
       "      <td>FEMALE</td>\n",
       "      <td>SINADEF Criteria</td>\n",
       "      <td>LIMA</td>\n",
       "      <td>LIMA</td>\n",
       "      <td>CHORRILLOS</td>\n",
       "      <td>150108</td>\n",
       "      <td>13890096.0</td>\n",
       "    </tr>\n",
       "    <tr>\n",
       "      <th>1</th>\n",
       "      <td>23-10-2023</td>\n",
       "      <td>09-03-2021</td>\n",
       "      <td>73</td>\n",
       "      <td>MALE</td>\n",
       "      <td>SINADEF Criteria</td>\n",
       "      <td>LIMA</td>\n",
       "      <td>LIMA</td>\n",
       "      <td>PUENTE PIEDRA</td>\n",
       "      <td>150125</td>\n",
       "      <td>13891240.0</td>\n",
       "    </tr>\n",
       "    <tr>\n",
       "      <th>2</th>\n",
       "      <td>23-10-2023</td>\n",
       "      <td>19-08-2021</td>\n",
       "      <td>66</td>\n",
       "      <td>MALE</td>\n",
       "      <td>SINADEF Criteria</td>\n",
       "      <td>LIMA</td>\n",
       "      <td>LIMA</td>\n",
       "      <td>LURIGANCHO</td>\n",
       "      <td>150118</td>\n",
       "      <td>13891356.0</td>\n",
       "    </tr>\n",
       "    <tr>\n",
       "      <th>3</th>\n",
       "      <td>23-10-2023</td>\n",
       "      <td>02-04-2021</td>\n",
       "      <td>57</td>\n",
       "      <td>FEMALE</td>\n",
       "      <td>SINADEF Criteria</td>\n",
       "      <td>LIMA</td>\n",
       "      <td>LIMA</td>\n",
       "      <td>LOS OLIVOS</td>\n",
       "      <td>150117</td>\n",
       "      <td>13891364.0</td>\n",
       "    </tr>\n",
       "    <tr>\n",
       "      <th>4</th>\n",
       "      <td>23-10-2023</td>\n",
       "      <td>16-04-2021</td>\n",
       "      <td>82</td>\n",
       "      <td>FEMALE</td>\n",
       "      <td>SINADEF Criteria</td>\n",
       "      <td>LIMA</td>\n",
       "      <td>LIMA</td>\n",
       "      <td>SAN MARTIN DE PORRES</td>\n",
       "      <td>150135</td>\n",
       "      <td>13892353.0</td>\n",
       "    </tr>\n",
       "  </tbody>\n",
       "</table>\n",
       "</div>"
      ],
      "text/plain": [
       "  CUT OFF DATE  DEATH DATE  AGE     SEX    CLASSIFICATION DEPARTMENT PROVINCE  \\\n",
       "0   23-10-2023  15-04-2021   56  FEMALE  SINADEF Criteria       LIMA     LIMA   \n",
       "1   23-10-2023  09-03-2021   73    MALE  SINADEF Criteria       LIMA     LIMA   \n",
       "2   23-10-2023  19-08-2021   66    MALE  SINADEF Criteria       LIMA     LIMA   \n",
       "3   23-10-2023  02-04-2021   57  FEMALE  SINADEF Criteria       LIMA     LIMA   \n",
       "4   23-10-2023  16-04-2021   82  FEMALE  SINADEF Criteria       LIMA     LIMA   \n",
       "\n",
       "               DISTRICT  UBIGEO        UUID  \n",
       "0            CHORRILLOS  150108  13890096.0  \n",
       "1         PUENTE PIEDRA  150125  13891240.0  \n",
       "2            LURIGANCHO  150118  13891356.0  \n",
       "3            LOS OLIVOS  150117  13891364.0  \n",
       "4  SAN MARTIN DE PORRES  150135  13892353.0  "
      ]
     },
     "execution_count": 3,
     "metadata": {},
     "output_type": "execute_result"
    }
   ],
   "source": [
    "df.head()"
   ]
  },
  {
   "cell_type": "code",
   "execution_count": 4,
   "id": "689d4897",
   "metadata": {},
   "outputs": [],
   "source": [
    "# Convert 'Date_cort' and 'Death date' to datetime\n",
    "# for column in tqdm(['Date_cort', 'Death date'], desc='Converting columns to datetime'):\n",
    "#     df[column] = pd.to_datetime(df[column], format='%Y%m%d')"
   ]
  },
  {
   "cell_type": "code",
   "execution_count": 5,
   "id": "fc0d7a56",
   "metadata": {},
   "outputs": [],
   "source": [
    "# df.head()"
   ]
  },
  {
   "cell_type": "code",
   "execution_count": 6,
   "id": "640a5136",
   "metadata": {},
   "outputs": [],
   "source": [
    "# Since the dates have been converted, let's save the dataframe with the updated date fields.\n",
    "# df.to_csv('Updated_COVID_Deaths_Data.csv', index=False)\n",
    "# print('The dataframe with updated date fields has been saved as Updated_COVID_Deaths_Data.csv.')"
   ]
  },
  {
   "cell_type": "code",
   "execution_count": 11,
   "id": "becdffd3",
   "metadata": {},
   "outputs": [
    {
     "name": "stdout",
     "output_type": "stream",
     "text": [
      "  CUT OFF DATE  DEATH DATE  AGE     SEX    CLASSIFICATION DEPARTMENT PROVINCE  \\\n",
      "0   23-10-2023  15-04-2021   56  FEMALE  SINADEF Criteria       LIMA     LIMA   \n",
      "1   23-10-2023  09-03-2021   73    MALE  SINADEF Criteria       LIMA     LIMA   \n",
      "2   23-10-2023  19-08-2021   66    MALE  SINADEF Criteria       LIMA     LIMA   \n",
      "3   23-10-2023  02-04-2021   57  FEMALE  SINADEF Criteria       LIMA     LIMA   \n",
      "4   23-10-2023  16-04-2021   82  FEMALE  SINADEF Criteria       LIMA     LIMA   \n",
      "\n",
      "               DISTRICT  UBIGEO        UUID  \n",
      "0            CHORRILLOS  150108  13890096.0  \n",
      "1         PUENTE PIEDRA  150125  13891240.0  \n",
      "2            LURIGANCHO  150118  13891356.0  \n",
      "3            LOS OLIVOS  150117  13891364.0  \n",
      "4  SAN MARTIN DE PORRES  150135  13892353.0  \n"
     ]
    },
    {
     "data": {
      "application/vnd.jupyter.widget-view+json": {
       "model_id": "5ab058bcb3b64583b734af0f0bad09f4",
       "version_major": 2,
       "version_minor": 0
      },
      "text/plain": [
       "Generating distributions:   0%|          | 0/6 [00:00<?, ?it/s]"
      ]
     },
     "metadata": {},
     "output_type": "display_data"
    },
    {
     "name": "stdout",
     "output_type": "stream",
     "text": [
      "Distribution for AGE:\n",
      "---------------------------\n",
      "AGE\n",
      "67    0.026933\n",
      "66    0.026656\n",
      "72    0.026448\n",
      "68    0.026220\n",
      "70    0.025973\n",
      "Name: proportion, dtype: float64\n",
      "\n",
      "\n",
      "Distribution for SEX:\n",
      "---------------------------\n",
      "SEX\n",
      "MALE      0.633303\n",
      "FEMALE    0.366697\n",
      "Name: proportion, dtype: float64\n",
      "\n",
      "\n",
      "Distribution for CLASSIFICATION:\n",
      "---------------------------\n",
      "CLASSIFICATION\n",
      "Virological Criteria                 0.418909\n",
      "SINADEF Criteria                     0.328708\n",
      "Serological Criteria                 0.169832\n",
      "Epidemiological Research Criteria    0.029318\n",
      "Clinical Criteria                    0.026111\n",
      "Name: proportion, dtype: float64\n",
      "\n",
      "\n",
      "Distribution for DEPARTMENT:\n",
      "---------------------------\n",
      "DEPARTMENT\n",
      "LIMA      0.891299\n",
      "CALLAO    0.108701\n",
      "Name: proportion, dtype: float64\n",
      "\n",
      "\n",
      "Distribution for PROVINCE:\n",
      "---------------------------\n",
      "PROVINCE\n",
      "LIMA      0.891299\n",
      "CALLAO    0.108701\n",
      "Name: proportion, dtype: float64\n",
      "\n",
      "\n",
      "Distribution for DISTRICT:\n",
      "---------------------------\n",
      "DISTRICT\n",
      "LIMA                      0.088054\n",
      "SAN JUAN DE LURIGANCHO    0.086450\n",
      "SAN MARTIN DE PORRES      0.068673\n",
      "CALLAO                    0.062467\n",
      "COMAS                     0.060646\n",
      "Name: proportion, dtype: float64\n",
      "\n",
      "\n"
     ]
    }
   ],
   "source": [
    "# Load the dataset\n",
    "file_path = 'Lima & Callo Covid Deaths Cleaned Dataset.csv'\n",
    "data = pd.read_csv(file_path, encoding='utf-8')\n",
    "\n",
    "# Display the head of the dataframe\n",
    "print(data.head())\n",
    "\n",
    "# Generate distributions\n",
    "for column in tqdm(['AGE', 'SEX', 'CLASSIFICATION', 'DEPARTMENT', 'PROVINCE', 'DISTRICT'], desc='Generating distributions'):\n",
    "    print(f'Distribution for {column}:')\n",
    "    print('---------------------------')\n",
    "    print(data[column].value_counts(normalize=True).head())\n",
    "    print('\\n')"
   ]
  },
  {
   "cell_type": "markdown",
   "id": "4125c5e0",
   "metadata": {},
   "source": [
    "The dataset contains information about COVID-19 related deaths in Lima and Callao, including the date of death, age, sex, classification criteria, and location details.\n",
    "\n",
    "The age distribution shows that the most common age at death is 67, representing approximately 2.69% of the dataset.\n",
    "\n",
    "Males account for about 63.33% of the deaths, indicating a higher mortality rate among males compared to females.\n",
    "\n",
    "The classification of deaths shows that 'Virological Criteria' is a common classification, accounting for approximately 41.89%.\n",
    "\n",
    "The department distribution is heavily skewed towards Lima, with about 89.13% of the deaths occurring there.\n",
    "\n",
    "Similarly, the province distribution mirrors the department distribution, with Lima also accounting for about 89.13% of the deaths.\n",
    "\n",
    "The district distribution is more varied, with the Lima district itself accounting for approximately 8.81% of the deaths."
   ]
  }
 ],
 "metadata": {
  "kernelspec": {
   "display_name": "Python 3 (ipykernel)",
   "language": "python",
   "name": "python3"
  },
  "language_info": {
   "codemirror_mode": {
    "name": "ipython",
    "version": 3
   },
   "file_extension": ".py",
   "mimetype": "text/x-python",
   "name": "python",
   "nbconvert_exporter": "python",
   "pygments_lexer": "ipython3",
   "version": "3.11.5"
  }
 },
 "nbformat": 4,
 "nbformat_minor": 5
}
