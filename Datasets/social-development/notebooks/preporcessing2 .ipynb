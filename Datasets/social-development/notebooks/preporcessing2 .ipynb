{
 "cells": [
  {
   "cell_type": "code",
   "execution_count": 159,
   "id": "fe5b8e31",
   "metadata": {},
   "outputs": [],
   "source": [
    "import pandas as pd"
   ]
  },
  {
   "cell_type": "code",
   "execution_count": 385,
   "id": "3d45f5ac",
   "metadata": {},
   "outputs": [],
   "source": [
    "attempted_femicide = pd.read_csv('./lima_data/attempted_femicide.csv') "
   ]
  },
  {
   "cell_type": "code",
   "execution_count": 426,
   "id": "a1fd22e0",
   "metadata": {},
   "outputs": [],
   "source": [
    "females_and_family_violance = pd.read_csv('./lima_data/females_and_family_violance.csv') "
   ]
  },
  {
   "cell_type": "code",
   "execution_count": null,
   "id": "7e135aba",
   "metadata": {},
   "outputs": [],
   "source": [
    "females_and_family_violance['']"
   ]
  },
  {
   "cell_type": "code",
   "execution_count": 387,
   "id": "84a4f301",
   "metadata": {},
   "outputs": [],
   "source": [
    "male_aggressors_women_fam = pd.read_csv('./lima_data/male_aggressors_women_fam.csv') "
   ]
  },
  {
   "cell_type": "code",
   "execution_count": 388,
   "id": "2ea710f8",
   "metadata": {},
   "outputs": [],
   "source": [
    "preventive_actions = pd.read_csv('./lima_data/preventive_actions.csv') "
   ]
  },
  {
   "cell_type": "code",
   "execution_count": 389,
   "id": "6f9f4f1b",
   "metadata": {},
   "outputs": [],
   "source": [
    "total_cases_attended = pd.read_csv('./lima_data/total_cases_attended.csv') "
   ]
  },
  {
   "cell_type": "code",
   "execution_count": 390,
   "id": "8347b2d0",
   "metadata": {},
   "outputs": [],
   "source": [
    "victims_femicide = pd.read_csv('./lima_data/victims_femicide.csv') "
   ]
  },
  {
   "cell_type": "code",
   "execution_count": 391,
   "id": "3850cffe",
   "metadata": {},
   "outputs": [
    {
     "data": {
      "text/plain": [
       "Unnamed: 0                                           0\n",
       "YEAR                                                 0\n",
       "PERIOD                                               0\n",
       "SEND DATE                                            0\n",
       "ENTITY CODE                                          0\n",
       "ENTITY                                               0\n",
       "LINE CODE                                            0\n",
       "INTERVENTION LINE                                    0\n",
       "SERVICE CODE                                         0\n",
       "SERVICE NAME                                         0\n",
       "UBIGEO                                               0\n",
       "DEPARTMENT                                           0\n",
       "PROVINCE                                             4\n",
       "DISTRICT                                             4\n",
       "CENTER_CODE                                          4\n",
       "CARE CENTER NAME                                     4\n",
       "Total_number of cases                                0\n",
       "NO CASES - RELATIONAL BOND - COUPLE                  0\n",
       "NO CASES - RELATIONAL LINK - EX PARTNER              0\n",
       "NO CASES - RELATIONAL BOND - FAMILY                  0\n",
       "NO CASES - RELATIONAL LINK - KNOWN                   0\n",
       "NO CASES - RELATIONAL LINK - UNKNOWN                 0\n",
       "NO CASES - RELATIONAL LINK - OTHERS                  0\n",
       "NO CASES OF ATTEMPTED FEMICIDE - 0_5 - WOMEN         0\n",
       "NO CASES OF ATTEMPTED FEMICIDE - 6_11 - WOMEN        0\n",
       "NO CASES OF ATTEMPTED FEMICIDE - 12_17 - WOMEN       0\n",
       "NO CASES OF ATTEMPTED FEMICIDE - 18_29 - WOMEN       0\n",
       "NO CASES OF ATTEMPTED FEMICIDE - 30_59 - WOMEN       0\n",
       "NO CASES OF ATTEMPTED FEMICIDE - 60 _MORE - WOMEN    0\n",
       "dtype: int64"
      ]
     },
     "execution_count": 391,
     "metadata": {},
     "output_type": "execute_result"
    }
   ],
   "source": [
    "attempted_femicide.isna().sum()"
   ]
  },
  {
   "cell_type": "markdown",
   "id": "33fd78d8",
   "metadata": {},
   "source": [
    "## attempted_femicide "
   ]
  },
  {
   "cell_type": "code",
   "execution_count": 393,
   "id": "e5ae161a",
   "metadata": {},
   "outputs": [
    {
     "data": {
      "text/plain": [
       "Index(['Unnamed: 0', 'YEAR', 'PERIOD', 'SEND DATE', 'ENTITY CODE', 'ENTITY',\n",
       "       'LINE CODE', 'INTERVENTION LINE', 'SERVICE CODE', 'SERVICE NAME',\n",
       "       'UBIGEO', 'DEPARTMENT', 'PROVINCE', 'DISTRICT', 'CENTER_CODE',\n",
       "       'CARE CENTER NAME', 'Total_number of cases',\n",
       "       'NO CASES - RELATIONAL BOND - COUPLE',\n",
       "       'NO CASES - RELATIONAL LINK - EX PARTNER',\n",
       "       'NO CASES - RELATIONAL BOND - FAMILY',\n",
       "       'NO CASES - RELATIONAL LINK - KNOWN',\n",
       "       'NO CASES - RELATIONAL LINK - UNKNOWN',\n",
       "       'NO CASES - RELATIONAL LINK - OTHERS',\n",
       "       'NO CASES OF ATTEMPTED FEMICIDE - 0_5 - WOMEN',\n",
       "       'NO CASES OF ATTEMPTED FEMICIDE - 6_11 - WOMEN',\n",
       "       'NO CASES OF ATTEMPTED FEMICIDE - 12_17 - WOMEN',\n",
       "       'NO CASES OF ATTEMPTED FEMICIDE - 18_29 - WOMEN',\n",
       "       'NO CASES OF ATTEMPTED FEMICIDE - 30_59 - WOMEN',\n",
       "       'NO CASES OF ATTEMPTED FEMICIDE - 60 _MORE - WOMEN'],\n",
       "      dtype='object')"
      ]
     },
     "execution_count": 393,
     "metadata": {},
     "output_type": "execute_result"
    }
   ],
   "source": [
    "attempted_femicide.columns"
   ]
  },
  {
   "cell_type": "markdown",
   "id": "a8b43fe3",
   "metadata": {},
   "source": [
    "<b> relational bond"
   ]
  },
  {
   "cell_type": "code",
   "execution_count": 394,
   "id": "97b502f3",
   "metadata": {},
   "outputs": [],
   "source": [
    "attempted_femicide_relational_bond = attempted_femicide[['YEAR', 'PERIOD', 'SEND DATE', 'ENTITY CODE', 'ENTITY',\n",
    "       'LINE CODE', 'INTERVENTION LINE', 'SERVICE CODE', 'SERVICE NAME',\n",
    "       'DEPARTMENT', 'PROVINCE', 'DISTRICT', 'CENTER_CODE', 'CARE CENTER NAME','NO CASES - RELATIONAL BOND - COUPLE','NO CASES - RELATIONAL BOND - FAMILY']]"
   ]
  },
  {
   "cell_type": "code",
   "execution_count": 395,
   "id": "75eb1737",
   "metadata": {},
   "outputs": [],
   "source": [
    "def g(df):\n",
    "    df_couple = df.copy()\n",
    "    df_couple['relational bond'] = 'couple'\n",
    "    df_couple['no cases'] = df_couple['NO CASES - RELATIONAL BOND - COUPLE']\n",
    "    df_family = df.copy()\n",
    "    df_family['relational bond'] = 'family'\n",
    "    df_family['no cases'] = df_family['NO CASES - RELATIONAL BOND - FAMILY']\n",
    "    df_new = pd.concat([df_couple, df_family])\n",
    "    return df_new"
   ]
  },
  {
   "cell_type": "code",
   "execution_count": 396,
   "id": "0af6574e",
   "metadata": {},
   "outputs": [],
   "source": [
    "attempted_femicide_relational_bond = g(attempted_femicide_relational_bond) "
   ]
  },
  {
   "cell_type": "code",
   "execution_count": 397,
   "id": "f338e419",
   "metadata": {},
   "outputs": [],
   "source": [
    "attempted_femicide_relational_bond= attempted_femicide_relational_bond.drop(['NO CASES - RELATIONAL BOND - COUPLE','NO CASES - RELATIONAL BOND - FAMILY'],axis=1)"
   ]
  },
  {
   "cell_type": "code",
   "execution_count": 398,
   "id": "ad45f7ee",
   "metadata": {},
   "outputs": [
    {
     "data": {
      "text/plain": [
       "Index(['YEAR', 'PERIOD', 'SEND DATE', 'ENTITY CODE', 'ENTITY', 'LINE CODE',\n",
       "       'INTERVENTION LINE', 'SERVICE CODE', 'SERVICE NAME', 'DEPARTMENT',\n",
       "       'PROVINCE', 'DISTRICT', 'CENTER_CODE', 'CARE CENTER NAME',\n",
       "       'relational bond', 'no cases'],\n",
       "      dtype='object')"
      ]
     },
     "execution_count": 398,
     "metadata": {},
     "output_type": "execute_result"
    }
   ],
   "source": [
    "attempted_femicide_relational_bond.columns"
   ]
  },
  {
   "cell_type": "markdown",
   "id": "b0fbe54c",
   "metadata": {},
   "source": [
    "<b> Relational link </b> "
   ]
  },
  {
   "cell_type": "code",
   "execution_count": 399,
   "id": "d750c4cb",
   "metadata": {},
   "outputs": [],
   "source": [
    "attempted_femicide_relational_link = attempted_femicide[['YEAR', 'PERIOD', 'SEND DATE', 'ENTITY CODE', 'ENTITY',\n",
    "       'LINE CODE', 'INTERVENTION LINE', 'SERVICE CODE', 'SERVICE NAME',\n",
    "       'DEPARTMENT', 'PROVINCE', 'DISTRICT', 'CENTER_CODE', 'CARE CENTER NAME',\n",
    "        'NO CASES - RELATIONAL LINK - EX PARTNER',\n",
    "       'NO CASES - RELATIONAL LINK - KNOWN',\n",
    "       'NO CASES - RELATIONAL LINK - UNKNOWN',\n",
    "       'NO CASES - RELATIONAL LINK - OTHERS']]"
   ]
  },
  {
   "cell_type": "code",
   "execution_count": 400,
   "id": "b45e391c",
   "metadata": {},
   "outputs": [],
   "source": [
    "def rel_link(df):\n",
    "    df_partner = df.copy()\n",
    "    df_partner['relational link'] = 'EX PARTNER'\n",
    "    df_partner['no cases'] = df_partner['NO CASES - RELATIONAL LINK - EX PARTNER']\n",
    "    df_KNOWN = df.copy()\n",
    "    df_KNOWN['relational link'] = 'KNOWN'\n",
    "    df_KNOWN['no cases'] = df_KNOWN['NO CASES - RELATIONAL LINK - KNOWN']\n",
    "    df_UNKNOWN = df.copy()\n",
    "    df_UNKNOWN['relational link'] = 'UNKNOWN'\n",
    "    df_UNKNOWN['no cases'] = df_UNKNOWN['NO CASES - RELATIONAL LINK - UNKNOWN']\n",
    "    df_OTHERS = df.copy()\n",
    "    df_OTHERS['relational link'] = 'OTHERS'\n",
    "    df_OTHERS['no cases'] = df_OTHERS['NO CASES - RELATIONAL LINK - OTHERS']\n",
    "    \n",
    "    df_new = pd.concat([df_partner, df_KNOWN,df_UNKNOWN,df_OTHERS])\n",
    "    return df_new"
   ]
  },
  {
   "cell_type": "code",
   "execution_count": 401,
   "id": "fcaa9950",
   "metadata": {},
   "outputs": [],
   "source": [
    "attempted_femicide_relational_link = rel_link(attempted_femicide_relational_link)"
   ]
  },
  {
   "cell_type": "code",
   "execution_count": 402,
   "id": "d8dcfa57",
   "metadata": {},
   "outputs": [],
   "source": [
    "attempted_femicide_relational_link= attempted_femicide_relational_link.drop(['NO CASES - RELATIONAL LINK - EX PARTNER',\n",
    "       'NO CASES - RELATIONAL LINK - KNOWN',\n",
    "       'NO CASES - RELATIONAL LINK - UNKNOWN',\n",
    "       'NO CASES - RELATIONAL LINK - OTHERS'],axis=1)"
   ]
  },
  {
   "cell_type": "code",
   "execution_count": 403,
   "id": "55fcd3d0",
   "metadata": {},
   "outputs": [
    {
     "data": {
      "text/plain": [
       "Index(['YEAR', 'PERIOD', 'SEND DATE', 'ENTITY CODE', 'ENTITY', 'LINE CODE',\n",
       "       'INTERVENTION LINE', 'SERVICE CODE', 'SERVICE NAME', 'DEPARTMENT',\n",
       "       'PROVINCE', 'DISTRICT', 'CENTER_CODE', 'CARE CENTER NAME',\n",
       "       'relational link', 'no cases'],\n",
       "      dtype='object')"
      ]
     },
     "execution_count": 403,
     "metadata": {},
     "output_type": "execute_result"
    }
   ],
   "source": [
    "attempted_femicide_relational_link.columns"
   ]
  },
  {
   "cell_type": "markdown",
   "id": "7b882bc2",
   "metadata": {},
   "source": [
    "<b> age"
   ]
  },
  {
   "cell_type": "code",
   "execution_count": 416,
   "id": "5d6dd21e",
   "metadata": {},
   "outputs": [],
   "source": [
    "attempted_femicide_age = attempted_femicide[['YEAR', 'PERIOD', 'SEND DATE', 'ENTITY CODE', 'ENTITY',\n",
    "       'LINE CODE', 'INTERVENTION LINE', 'SERVICE CODE', 'SERVICE NAME',\n",
    "       'DEPARTMENT', 'PROVINCE', 'DISTRICT', 'CENTER_CODE', 'CARE CENTER NAME',\n",
    "        'NO CASES OF ATTEMPTED FEMICIDE - 0_5 - WOMEN',\n",
    "       'NO CASES OF ATTEMPTED FEMICIDE - 6_11 - WOMEN',\n",
    "       'NO CASES OF ATTEMPTED FEMICIDE - 12_17 - WOMEN',\n",
    "       'NO CASES OF ATTEMPTED FEMICIDE - 18_29 - WOMEN',\n",
    "       'NO CASES OF ATTEMPTED FEMICIDE - 30_59 - WOMEN',\n",
    "       'NO CASES OF ATTEMPTED FEMICIDE - 60 _MORE - WOMEN']]"
   ]
  },
  {
   "cell_type": "code",
   "execution_count": 417,
   "id": "18cb369a",
   "metadata": {},
   "outputs": [
    {
     "data": {
      "text/plain": [
       "YEAR                                                 0\n",
       "PERIOD                                               0\n",
       "SEND DATE                                            0\n",
       "ENTITY CODE                                          0\n",
       "ENTITY                                               0\n",
       "LINE CODE                                            0\n",
       "INTERVENTION LINE                                    0\n",
       "SERVICE CODE                                         0\n",
       "SERVICE NAME                                         0\n",
       "DEPARTMENT                                           0\n",
       "PROVINCE                                             4\n",
       "DISTRICT                                             4\n",
       "CENTER_CODE                                          4\n",
       "CARE CENTER NAME                                     4\n",
       "NO CASES OF ATTEMPTED FEMICIDE - 0_5 - WOMEN         0\n",
       "NO CASES OF ATTEMPTED FEMICIDE - 6_11 - WOMEN        0\n",
       "NO CASES OF ATTEMPTED FEMICIDE - 12_17 - WOMEN       0\n",
       "NO CASES OF ATTEMPTED FEMICIDE - 18_29 - WOMEN       0\n",
       "NO CASES OF ATTEMPTED FEMICIDE - 30_59 - WOMEN       0\n",
       "NO CASES OF ATTEMPTED FEMICIDE - 60 _MORE - WOMEN    0\n",
       "dtype: int64"
      ]
     },
     "execution_count": 417,
     "metadata": {},
     "output_type": "execute_result"
    }
   ],
   "source": [
    "attempted_femicide_age.isna().sum()"
   ]
  },
  {
   "cell_type": "code",
   "execution_count": 419,
   "id": "4fecff51",
   "metadata": {},
   "outputs": [],
   "source": [
    "def age(df):\n",
    "    df_0_5 = df.copy()\n",
    "    df_0_5['age'] = '0-5'\n",
    "    df_0_5['no cases'] = df_0_5['NO CASES OF ATTEMPTED FEMICIDE - 0_5 - WOMEN']\n",
    "    df_6_11 = df.copy()\n",
    "    df_6_11['age'] = '6-11'\n",
    "    df_6_11['no cases'] = df_6_11['NO CASES OF ATTEMPTED FEMICIDE - 6_11 - WOMEN']\n",
    "    df_12_17 = df.copy()\n",
    "    df_12_17['age'] = '12-17'\n",
    "    df_12_17['no cases'] = df_12_17['NO CASES OF ATTEMPTED FEMICIDE - 12_17 - WOMEN']\n",
    "    df_18_29 = df.copy()\n",
    "    df_18_29['age'] = '18-29'\n",
    "    df_18_29['no cases'] = df_18_29['NO CASES OF ATTEMPTED FEMICIDE - 18_29 - WOMEN']\n",
    "    df_30_59 = df.copy()\n",
    "    df_30_59['age'] = '30_59'\n",
    "    df_30_59['no cases'] = df_30_59['NO CASES OF ATTEMPTED FEMICIDE - 30_59 - WOMEN']\n",
    "    df_60_more = df.copy()\n",
    "    df_60_more['age'] = '60+'\n",
    "    df_60_more['no cases'] = df_60_more['NO CASES OF ATTEMPTED FEMICIDE - 60 _MORE - WOMEN']    \n",
    "    df_new = pd.concat([df_0_5, df_6_11,df_12_17,df_18_29,df_30_59,df_60_more])\n",
    "    return df_new"
   ]
  },
  {
   "cell_type": "code",
   "execution_count": 420,
   "id": "e135ddce",
   "metadata": {},
   "outputs": [],
   "source": [
    "attempted_femicide_age = age(attempted_femicide_age)"
   ]
  },
  {
   "cell_type": "code",
   "execution_count": 421,
   "id": "60784642",
   "metadata": {},
   "outputs": [],
   "source": [
    "attempted_femicide_age = attempted_femicide_age.drop(['NO CASES OF ATTEMPTED FEMICIDE - 0_5 - WOMEN',\n",
    "       'NO CASES OF ATTEMPTED FEMICIDE - 6_11 - WOMEN',\n",
    "       'NO CASES OF ATTEMPTED FEMICIDE - 12_17 - WOMEN',\n",
    "       'NO CASES OF ATTEMPTED FEMICIDE - 18_29 - WOMEN',\n",
    "       'NO CASES OF ATTEMPTED FEMICIDE - 30_59 - WOMEN',\n",
    "       'NO CASES OF ATTEMPTED FEMICIDE - 60 _MORE - WOMEN'],axis=1)"
   ]
  },
  {
   "cell_type": "code",
   "execution_count": 408,
   "id": "d8d4c1e0",
   "metadata": {},
   "outputs": [],
   "source": [
    "attempted_femicide_relational_bond.to_csv('./final_data/attempted_femicide_reltional_bond.csv')"
   ]
  },
  {
   "cell_type": "code",
   "execution_count": 409,
   "id": "5b5c0128",
   "metadata": {},
   "outputs": [],
   "source": [
    "attempted_femicide_relational_link.to_csv('./final_data/attempted_femicide_reltional_link.csv')"
   ]
  },
  {
   "cell_type": "code",
   "execution_count": 425,
   "id": "1ccdea9e",
   "metadata": {},
   "outputs": [],
   "source": [
    "attempted_femicide_age.to_csv('./final_data/attempted_femicide_age.csv')"
   ]
  },
  {
   "cell_type": "code",
   "execution_count": 422,
   "id": "f7af0355",
   "metadata": {},
   "outputs": [
    {
     "data": {
      "text/plain": [
       "YEAR                  0\n",
       "PERIOD                0\n",
       "SEND DATE             0\n",
       "ENTITY CODE           0\n",
       "ENTITY                0\n",
       "LINE CODE             0\n",
       "INTERVENTION LINE     0\n",
       "SERVICE CODE          0\n",
       "SERVICE NAME          0\n",
       "DEPARTMENT            0\n",
       "PROVINCE             24\n",
       "DISTRICT             24\n",
       "CENTER_CODE          24\n",
       "CARE CENTER NAME     24\n",
       "age                   0\n",
       "no cases              0\n",
       "dtype: int64"
      ]
     },
     "execution_count": 422,
     "metadata": {},
     "output_type": "execute_result"
    }
   ],
   "source": [
    "attempted_femicide_age.isna().sum()"
   ]
  },
  {
   "cell_type": "markdown",
   "id": "2bdc9857",
   "metadata": {},
   "source": [
    "<b> Total cases"
   ]
  },
  {
   "cell_type": "code",
   "execution_count": 110,
   "id": "ec52a0a0",
   "metadata": {},
   "outputs": [],
   "source": [
    "attempted_femicide_total_cases = attempted_femicide[['YEAR', 'PERIOD', 'SEND DATE', 'ENTITY CODE', 'ENTITY',\n",
    "       'LINE CODE', 'INTERVENTION LINE', 'SERVICE CODE', 'SERVICE NAME',\n",
    "       'DEPARTMENT', 'PROVINCE', 'DISTRICT', 'CENTER_CODE', 'CARE CENTER NAME','Total_number of cases'\n",
    "]]"
   ]
  },
  {
   "cell_type": "code",
   "execution_count": 114,
   "id": "1ee25a27",
   "metadata": {},
   "outputs": [],
   "source": [
    "attempted_femicide_total_cases.to_csv('./final_data/attempted_femicide_total_cases.csv')"
   ]
  },
  {
   "cell_type": "markdown",
   "id": "ad5ef269",
   "metadata": {},
   "source": [
    "## females_and_family_violance "
   ]
  },
  {
   "cell_type": "markdown",
   "id": "9b09a93d",
   "metadata": {},
   "source": [
    "<b> gender"
   ]
  },
  {
   "cell_type": "code",
   "execution_count": 428,
   "id": "36c7addb",
   "metadata": {},
   "outputs": [],
   "source": [
    "females_and_family_violance= females_and_family_violance.rename(columns={\n",
    "    'NO CASOS ATENDIDOS - 0_5 - MUJERES': 'NO CASES ATTENDED - 0_5 - FEMALES'})\n"
   ]
  },
  {
   "cell_type": "code",
   "execution_count": 429,
   "id": "5ba08c23",
   "metadata": {},
   "outputs": [],
   "source": [
    "females_and_family_violance_per_gender_total = females_and_family_violance[['YEAR', 'PERIOD', 'SEND DATE', 'ENTITY CODE', 'ENTITY',\n",
    "       'LINE CODE', 'INTERVENTION LINE', 'SERVICE CODE', 'SERVICE NAME',\n",
    "       'UBIGEO', 'DEPARTMENT', 'PROVINCE', 'DISTRICT', 'CARE CENTER CODE',\n",
    "       'CARE CENTER NAME', 'EMC NO.',\n",
    "       'NO CASES ATTENDED - MEN - TOTAL', 'NO CASES ATTENDED - WOMEN - TOTAL']]"
   ]
  },
  {
   "cell_type": "code",
   "execution_count": 430,
   "id": "ca5c06aa",
   "metadata": {},
   "outputs": [],
   "source": [
    "def gender_total(df):\n",
    "    df_MEN = df.copy()\n",
    "    df_MEN['gender'] ='MAN'\n",
    "    df_MEN['no cases'] = df_MEN['NO CASES ATTENDED - MEN - TOTAL'] \n",
    "    df_WOMEN = df.copy()\n",
    "    df_WOMEN['gender'] ='WOMAN'\n",
    "    df_WOMEN['no cases'] = df_WOMEN['NO CASES ATTENDED - WOMEN - TOTAL'] \n",
    "    df_new = pd.concat([df_WOMEN,df_MEN])\n",
    "    df_new = df_new.drop(['NO CASES ATTENDED - MEN - TOTAL','NO CASES ATTENDED - WOMEN - TOTAL'],axis=1)\n",
    "    return df_new"
   ]
  },
  {
   "cell_type": "code",
   "execution_count": 431,
   "id": "0abbc770",
   "metadata": {},
   "outputs": [],
   "source": [
    "females_and_family_violance_per_gender_total = gender_total(females_and_family_violance_per_gender_total)"
   ]
  },
  {
   "cell_type": "code",
   "execution_count": 432,
   "id": "49f57050",
   "metadata": {},
   "outputs": [
    {
     "data": {
      "text/plain": [
       "(1374, 18)"
      ]
     },
     "execution_count": 432,
     "metadata": {},
     "output_type": "execute_result"
    }
   ],
   "source": [
    "females_and_family_violance_per_gender_total.shape"
   ]
  },
  {
   "cell_type": "code",
   "execution_count": 433,
   "id": "353ca487",
   "metadata": {},
   "outputs": [],
   "source": [
    "females_and_family_violance_per_gender_total.to_csv('./final_data/females_and_family_violance_per_gender_total.csv')"
   ]
  },
  {
   "cell_type": "markdown",
   "id": "c2005711",
   "metadata": {},
   "source": [
    "<b> Type of violence"
   ]
  },
  {
   "cell_type": "code",
   "execution_count": 434,
   "id": "ac42e867",
   "metadata": {},
   "outputs": [],
   "source": [
    "females_and_family_violance_per_violance_type = females_and_family_violance[['YEAR', 'PERIOD', 'SEND DATE', 'ENTITY CODE', 'ENTITY',\n",
    "       'LINE CODE', 'INTERVENTION LINE', 'SERVICE CODE', 'SERVICE NAME',\n",
    "       'UBIGEO', 'DEPARTMENT', 'PROVINCE', 'DISTRICT', 'CARE CENTER CODE',\n",
    "       'CARE CENTER NAME', 'EMC NO.',\n",
    "        'NO CASES ATTENDED - PSYCHOLOGICAL VIOLENCE',\n",
    "       'NO CASES ATTENDED - PHYSICAL VIOLENCE',\n",
    "       'NO CASES ATTENDED - SEXUAL VIOLENCE','NO CASES ATTENDED - ECONOMIC OR PATRIMONIAL VIOLENCE']]"
   ]
  },
  {
   "cell_type": "code",
   "execution_count": 435,
   "id": "3026fa3a",
   "metadata": {},
   "outputs": [],
   "source": [
    "def type_violance(df):\n",
    "    df_PSYCHOLOGICAL_VIOLENCE = df.copy()\n",
    "    df_PSYCHOLOGICAL_VIOLENCE['Type of violence'] ='PSYCHOLOGICAL VIOLENCE'\n",
    "    df_PSYCHOLOGICAL_VIOLENCE['no cases'] = df_PSYCHOLOGICAL_VIOLENCE['NO CASES ATTENDED - PSYCHOLOGICAL VIOLENCE'] \n",
    "    df_PHYSICAL_VIOLENCE = df.copy()\n",
    "    df_PHYSICAL_VIOLENCE['Type of violence'] ='PHYSICAL VIOLENCE'\n",
    "    df_PHYSICAL_VIOLENCE['no cases'] = df_PHYSICAL_VIOLENCE['NO CASES ATTENDED - PHYSICAL VIOLENCE'] \n",
    "    df_SEXUAL_VIOLENCE = df.copy()\n",
    "    df_SEXUAL_VIOLENCE['Type of violence'] ='SEXUAL VIOLENCE'\n",
    "    df_SEXUAL_VIOLENCE['no cases'] = df_SEXUAL_VIOLENCE['NO CASES ATTENDED - SEXUAL VIOLENCE'] \n",
    "    df_ECONOMIC_PATRIMONIAL_VIOLENCE = df.copy()\n",
    "    df_ECONOMIC_PATRIMONIAL_VIOLENCE['Type of violence'] ='ECONOMIC OR PATRIMONIAL VIOLENCE'\n",
    "    df_ECONOMIC_PATRIMONIAL_VIOLENCE['no cases'] = df_ECONOMIC_PATRIMONIAL_VIOLENCE['NO CASES ATTENDED - ECONOMIC OR PATRIMONIAL VIOLENCE'] \n",
    "    \n",
    "    df_new = pd.concat([df_PSYCHOLOGICAL_VIOLENCE,df_PHYSICAL_VIOLENCE,df_SEXUAL_VIOLENCE,df_ECONOMIC_PATRIMONIAL_VIOLENCE])\n",
    "    df_new = df_new.drop(['NO CASES ATTENDED - PHYSICAL VIOLENCE','NO CASES ATTENDED - PSYCHOLOGICAL VIOLENCE','NO CASES ATTENDED - SEXUAL VIOLENCE','NO CASES ATTENDED - ECONOMIC OR PATRIMONIAL VIOLENCE'],axis=1)\n",
    "    return df_new"
   ]
  },
  {
   "cell_type": "code",
   "execution_count": 436,
   "id": "ca2121ec",
   "metadata": {},
   "outputs": [],
   "source": [
    "females_and_family_violance_per_violance_type = type_violance(females_and_family_violance_per_violance_type)"
   ]
  },
  {
   "cell_type": "code",
   "execution_count": 437,
   "id": "0ec1d536",
   "metadata": {},
   "outputs": [
    {
     "data": {
      "text/plain": [
       "(2748, 18)"
      ]
     },
     "execution_count": 437,
     "metadata": {},
     "output_type": "execute_result"
    }
   ],
   "source": [
    "females_and_family_violance_per_violance_type.shape"
   ]
  },
  {
   "cell_type": "code",
   "execution_count": 438,
   "id": "978352d9",
   "metadata": {},
   "outputs": [],
   "source": [
    "females_and_family_violance_per_violance_type.to_csv('./final_data/females_and_family_violance_per_violance_type.csv')"
   ]
  },
  {
   "cell_type": "markdown",
   "id": "3f975d0a",
   "metadata": {},
   "source": [
    "<b> gender and age "
   ]
  },
  {
   "cell_type": "code",
   "execution_count": 439,
   "id": "53894761",
   "metadata": {},
   "outputs": [],
   "source": [
    "females_and_family_violance= females_and_family_violance.rename(columns= {'NO CASES ATTENDED - 0_5 - FEMALES':'NO CASES ATTENDED - 0_5 - WOMEN'})"
   ]
  },
  {
   "cell_type": "code",
   "execution_count": 440,
   "id": "33818fcd",
   "metadata": {},
   "outputs": [
    {
     "data": {
      "text/plain": [
       "Index(['Unnamed: 0', 'YEAR', 'PERIOD', 'SEND DATE', 'ENTITY CODE', 'ENTITY',\n",
       "       'LINE CODE', 'INTERVENTION LINE', 'SERVICE CODE', 'SERVICE NAME',\n",
       "       'UBIGEO', 'DEPARTMENT', 'PROVINCE', 'DISTRICT', 'CARE CENTER CODE',\n",
       "       'CARE CENTER NAME', 'EMC NO.', 'NO CASES ATTENDED-TOTAL',\n",
       "       'NO CASES ATTENDED - MEN - TOTAL', 'NO CASES ATTENDED - WOMEN - TOTAL',\n",
       "       'NO CASES ATTENDED - PSYCHOLOGICAL VIOLENCE',\n",
       "       'NO CASES ATTENDED - PHYSICAL VIOLENCE',\n",
       "       'NO CASES ATTENDED - SEXUAL VIOLENCE',\n",
       "       'NO CASES ATTENDED - ECONOMIC OR PATRIMONIAL VIOLENCE',\n",
       "       'NO CASES ATTENDED - 0_5 - TOTAL', 'NO CASES ATTENDED - 0_5 - MEN',\n",
       "       'NO CASES ATTENDED - 0_5 - WOMEN', 'NO CASES ATTENDED - 6_11 - TOTAL',\n",
       "       'NO CASES ATTENDED - 6_11 - MEN', 'NO CASES ATTENDED - 6_11 - WOMEN',\n",
       "       'NO CASES ATTENDED - 12_17 - TOTAL', 'NO CASES ATTENDED - 12_17 - MEN',\n",
       "       'NO CASES ATTENDED - 12_17 - WOMEN',\n",
       "       'NO CASES ATTENDED - 18_25 - TOTAL', 'NO CASES ATTENDED - 18_25 - MEN',\n",
       "       'NO CASES ATTENDED - 18_25 - WOMEN',\n",
       "       'NO CASES ATTENDED - 18_29 - TOTAL', 'NO CASES ATTENDED - 18_29 - MEN',\n",
       "       'NO CASES ATTENDED - 18_29 - WOMEN',\n",
       "       'NO CASES ATTENDED - 26_35 - TOTAL', 'NO CASES ATTENDED - 26_35 - MEN',\n",
       "       'NO CASES ATTENDED - 26_35 - WOMEN',\n",
       "       'NO CASES ATTENDED - 36_45 - TOTAL', 'NO CASES ATTENDED - 36_45 - MEN',\n",
       "       'NO CASES ATTENDED - 36_45 - WOMEN',\n",
       "       'NO CASES ATTENDED - 30_59 - TOTAL', 'NO CASES ATTENDED - 30_59 - MEN',\n",
       "       'NO CASES ATTENDED - 30_59 - WOMEN',\n",
       "       'NO CASES ATTENDED - 46_59 - TOTAL', 'NO CASES ATTENDED - 46_59 - MEN',\n",
       "       'NO CASES ATTENDED - 46_59 - WOMEN',\n",
       "       'NO CASES ATTENDED - 60_MORE - TOTAL',\n",
       "       'NO CASES ATTENDED - 60_MORE - MEN',\n",
       "       'NO CASES ATTENDED - 60_MORE - WOMEN', 'NUMBER OF ACTIVITIES - TOTAL'],\n",
       "      dtype='object')"
      ]
     },
     "execution_count": 440,
     "metadata": {},
     "output_type": "execute_result"
    }
   ],
   "source": [
    "females_and_family_violance.columns"
   ]
  },
  {
   "cell_type": "code",
   "execution_count": 441,
   "id": "f207e7f6",
   "metadata": {},
   "outputs": [],
   "source": [
    "females_and_family_violance_age_gender = females_and_family_violance[['YEAR', 'PERIOD', 'SEND DATE', 'ENTITY CODE', 'ENTITY',\n",
    "       'LINE CODE', 'INTERVENTION LINE', 'SERVICE CODE', 'SERVICE NAME',\n",
    "       'UBIGEO', 'DEPARTMENT', 'PROVINCE', 'DISTRICT', 'CARE CENTER CODE',\n",
    "       'CARE CENTER NAME', 'EMC NO.', 'NO CASES ATTENDED - 0_5 - MEN',\n",
    "       'NO CASES ATTENDED - 0_5 - WOMEN',\n",
    "       'NO CASES ATTENDED - 6_11 - MEN', 'NO CASES ATTENDED - 6_11 - WOMEN',\n",
    "        'NO CASES ATTENDED - 12_17 - MEN',\n",
    "       'NO CASES ATTENDED - 12_17 - WOMEN',\n",
    "                                                                      'NO CASES ATTENDED - 18_25 - MEN',\n",
    "       'NO CASES ATTENDED - 18_25 - WOMEN',\n",
    "                                                                      'NO CASES ATTENDED - 18_29 - MEN',\n",
    "       'NO CASES ATTENDED - 18_29 - WOMEN',\n",
    "                                                                      'NO CASES ATTENDED - 26_35 - MEN',\n",
    "       'NO CASES ATTENDED - 26_35 - WOMEN',\n",
    "        'NO CASES ATTENDED - 36_45 - MEN',\n",
    "       'NO CASES ATTENDED - 36_45 - WOMEN',\n",
    "        'NO CASES ATTENDED - 30_59 - MEN',\n",
    "       'NO CASES ATTENDED - 30_59 - WOMEN',\n",
    "        'NO CASES ATTENDED - 46_59 - MEN',\n",
    "       'NO CASES ATTENDED - 46_59 - WOMEN',\n",
    "                                                                      \n",
    "       'NO CASES ATTENDED - 60_MORE - MEN',\n",
    "       'NO CASES ATTENDED - 60_MORE - WOMEN']]"
   ]
  },
  {
   "cell_type": "code",
   "execution_count": 442,
   "id": "a05d4d89",
   "metadata": {},
   "outputs": [],
   "source": [
    "def age_gender(df):\n",
    "    age_ranges = ['0_5', '6_11', '12_17', '18_25', '18_29', '26_35', '36_45', '30_59', '46_59', '60_MORE']\n",
    "    gender_categories = ['MEN', 'WOMEN']\n",
    "\n",
    "    dfs = []\n",
    "\n",
    "    for age_range in age_ranges:\n",
    "        for gender in gender_categories:\n",
    "            new_df = df.copy()\n",
    "            new_df['age'] = age_range\n",
    "            new_df['gender'] = gender\n",
    "            new_df['no cases'] = df[f'NO CASES ATTENDED - {age_range} - {gender}']\n",
    "            dfs.append(new_df)\n",
    "    \n",
    "    df_new = pd.concat(dfs)\n",
    "    df_new = df_new.drop(['NO CASES ATTENDED - 0_5 - MEN',\n",
    "       'NO CASES ATTENDED - 0_5 - WOMEN',\n",
    "       'NO CASES ATTENDED - 6_11 - MEN', 'NO CASES ATTENDED - 6_11 - WOMEN',\n",
    "        'NO CASES ATTENDED - 12_17 - MEN',\n",
    "       'NO CASES ATTENDED - 12_17 - WOMEN',\n",
    "                                                                      'NO CASES ATTENDED - 18_25 - MEN',\n",
    "       'NO CASES ATTENDED - 18_25 - WOMEN',\n",
    "                                                                      'NO CASES ATTENDED - 18_29 - MEN',\n",
    "       'NO CASES ATTENDED - 18_29 - WOMEN',\n",
    "                                                                      'NO CASES ATTENDED - 26_35 - MEN',\n",
    "       'NO CASES ATTENDED - 26_35 - WOMEN',\n",
    "        'NO CASES ATTENDED - 36_45 - MEN',\n",
    "       'NO CASES ATTENDED - 36_45 - WOMEN',\n",
    "        'NO CASES ATTENDED - 30_59 - MEN',\n",
    "       'NO CASES ATTENDED - 30_59 - WOMEN',\n",
    "        'NO CASES ATTENDED - 46_59 - MEN',\n",
    "       'NO CASES ATTENDED - 46_59 - WOMEN',\n",
    "                                                                      \n",
    "       'NO CASES ATTENDED - 60_MORE - MEN',\n",
    "       'NO CASES ATTENDED - 60_MORE - WOMEN'],axis=1)\n",
    "\n",
    "    return df_new\n",
    "age_gender_df = age_gender(females_and_family_violance_age_gender)\n"
   ]
  },
  {
   "cell_type": "code",
   "execution_count": 443,
   "id": "82e42d0a",
   "metadata": {},
   "outputs": [],
   "source": [
    "age_gender_df.to_csv('./final_data/females_and_family_violance_per_age_gender.csv')"
   ]
  },
  {
   "cell_type": "markdown",
   "id": "8a4ff82f",
   "metadata": {},
   "source": [
    "<b> total cases "
   ]
  },
  {
   "cell_type": "code",
   "execution_count": 235,
   "id": "8a875e16",
   "metadata": {},
   "outputs": [],
   "source": [
    "females_and_family_violance_total_cases= females_and_family_violance[['YEAR', 'PERIOD', 'SEND DATE', 'ENTITY CODE', 'ENTITY',\n",
    "       'LINE CODE', 'INTERVENTION LINE', 'SERVICE CODE', 'SERVICE NAME',\n",
    "       'UBIGEO', 'DEPARTMENT', 'PROVINCE', 'DISTRICT', 'CARE CENTER CODE','NUMBER OF ACTIVITIES - TOTAL']]\n",
    "                                                                    "
   ]
  },
  {
   "cell_type": "code",
   "execution_count": 239,
   "id": "1b175d2c",
   "metadata": {},
   "outputs": [],
   "source": [
    "females_and_family_violance_total_cases.to_csv('./final_data/females_and_family_violance_total.csv')"
   ]
  },
  {
   "cell_type": "markdown",
   "id": "c70145c4",
   "metadata": {},
   "source": [
    "## male_aggressors_women_fam "
   ]
  },
  {
   "cell_type": "markdown",
   "id": "8e7d317f",
   "metadata": {},
   "source": [
    "<b> Age "
   ]
  },
  {
   "cell_type": "code",
   "execution_count": 241,
   "id": "a8afca68",
   "metadata": {},
   "outputs": [],
   "source": [
    "male_aggressors_women_fam = male_aggressors_women_fam.drop('NUM_CASES_MEN',axis=1)"
   ]
  },
  {
   "cell_type": "code",
   "execution_count": 243,
   "id": "ecc579d8",
   "metadata": {},
   "outputs": [],
   "source": [
    "male_aggressors_women_fam_per_age = male_aggressors_women_fam[['YEAR', 'PERIOD', 'SEND DATE', 'ENTITY CODE',\n",
    "       'NATIONAL PROGRAM AGAINST FAMILY AND SEXUAL VIOLENCE',\n",
    "       'INTERVENTION LINE CODE', 'INTERVENTION LINE', 'SERVICE CODE',\n",
    "       'SERVICE NAME', 'LOCATION OF GEOGRAPHICAL LOCATION', 'DEPARTMENT',\n",
    "       'PROVINCE', 'DISTRICT', 'CODE', 'NAME', 'NUM_CA', 'NUM_CASES',\n",
    "       'NUM_CASES_18_25_MEN', 'NUM_CASES_18_29_MEN', 'NUM_CASES_26_35_MEN',\n",
    "       'NUM_CASES_36_45_MEN', 'NUM_CASES_46_59_MEN', 'NUM_CASES_30_59_MEN',\n",
    "       'NUM_CASES_60_A MORE_MEN']]"
   ]
  },
  {
   "cell_type": "code",
   "execution_count": 245,
   "id": "568dc56e",
   "metadata": {},
   "outputs": [
    {
     "data": {
      "text/plain": [
       "Index(['Unnamed: 0', 'YEAR', 'PERIOD', 'SEND DATE', 'ENTITY CODE',\n",
       "       'NATIONAL PROGRAM AGAINST FAMILY AND SEXUAL VIOLENCE',\n",
       "       'INTERVENTION LINE CODE', 'INTERVENTION LINE', 'SERVICE CODE',\n",
       "       'SERVICE NAME', 'LOCATION OF GEOGRAPHICAL LOCATION', 'DEPARTMENT',\n",
       "       'PROVINCE', 'DISTRICT', 'CODE', 'NAME', 'NUM_CA', 'NUM_CASES',\n",
       "       'NUM_CASES_18_25_MEN', 'NUM_CASES_18_29_MEN', 'NUM_CASES_26_35_MEN',\n",
       "       'NUM_CASES_36_45_MEN', 'NUM_CASES_46_59_MEN', 'NUM_CASES_30_59_MEN',\n",
       "       'NUM_CASES_60_A MORE_MEN', 'NUM_CUSTOM ACTIVITIES'],\n",
       "      dtype='object')"
      ]
     },
     "execution_count": 245,
     "metadata": {},
     "output_type": "execute_result"
    }
   ],
   "source": [
    "male_aggressors_women_fam.columns"
   ]
  },
  {
   "cell_type": "code",
   "execution_count": 249,
   "id": "03b8d43d",
   "metadata": {},
   "outputs": [],
   "source": [
    "def age_man(df):\n",
    "    age_ranges = ['18_25_MEN', '18_29_MEN', '26_35_MEN',\n",
    "       '36_45_MEN', '46_59_MEN', '30_59_MEN',\n",
    "       '60_A MORE_MEN']\n",
    "\n",
    "    dfs = []\n",
    "\n",
    "    for age_range in age_ranges:\n",
    "        new_df = df.copy()\n",
    "        new_df['age'] = age_range\n",
    "        new_df['no cases'] = df[f'NUM_CASES_{age_range}']\n",
    "        dfs.append(new_df)\n",
    "    \n",
    "    df_new = pd.concat(dfs)\n",
    "    df_new = df_new.drop(['NUM_CASES_18_25_MEN', 'NUM_CASES_18_29_MEN', 'NUM_CASES_26_35_MEN',\n",
    "       'NUM_CASES_36_45_MEN', 'NUM_CASES_46_59_MEN', 'NUM_CASES_30_59_MEN',\n",
    "       'NUM_CASES_60_A MORE_MEN'],axis=1)\n",
    "\n",
    "    return df_new\n",
    "male_aggressors_per_age = age_man(male_aggressors_women_fam_per_age)\n"
   ]
  },
  {
   "cell_type": "markdown",
   "id": "ea737d50",
   "metadata": {},
   "source": [
    "<b> total"
   ]
  },
  {
   "cell_type": "code",
   "execution_count": 254,
   "id": "2dd4eeda",
   "metadata": {},
   "outputs": [],
   "source": [
    "male_aggressors_women_fam_total = male_aggressors_women_fam[['YEAR', 'PERIOD', 'SEND DATE', 'ENTITY CODE',\n",
    "       'NATIONAL PROGRAM AGAINST FAMILY AND SEXUAL VIOLENCE',\n",
    "       'INTERVENTION LINE CODE', 'INTERVENTION LINE', 'SERVICE CODE',\n",
    "       'SERVICE NAME', 'LOCATION OF GEOGRAPHICAL LOCATION', 'DEPARTMENT',\n",
    "       'PROVINCE', 'DISTRICT', 'CODE', 'NAME', 'NUM_CA', 'NUM_CASES']]"
   ]
  },
  {
   "cell_type": "code",
   "execution_count": 255,
   "id": "c25be33f",
   "metadata": {},
   "outputs": [],
   "source": [
    "male_aggressors_per_age.to_csv('./final_data/male_aggressors_per_age.csv')"
   ]
  },
  {
   "cell_type": "code",
   "execution_count": 256,
   "id": "f266a9b3",
   "metadata": {},
   "outputs": [],
   "source": [
    "male_aggressors_women_fam_total.to_csv('./final_data/male_aggressors_women_fam_total.csv')"
   ]
  },
  {
   "cell_type": "markdown",
   "id": "e373d89b",
   "metadata": {},
   "source": [
    "# preventive_actions"
   ]
  },
  {
   "cell_type": "markdown",
   "id": "26d6518d",
   "metadata": {},
   "source": [
    "<b> gender"
   ]
  },
  {
   "cell_type": "code",
   "execution_count": 258,
   "id": "2bd71454",
   "metadata": {},
   "outputs": [],
   "source": [
    "def gender_total_preventive(df):\n",
    "    df_MEN = df.copy()\n",
    "    df_MEN['gender'] ='MAN'\n",
    "    df_MEN['no cases'] = df_MEN['NO OF INFORMED AND SENSITIZED PEOPLE - MEN'] \n",
    "    df_WOMEN = df.copy()\n",
    "    df_WOMEN['gender'] ='WOMAN'\n",
    "    df_WOMEN['no cases'] = df_WOMEN['NO OF INFORMED AND SENSITIZED PEOPLE - WOMEN'] \n",
    "    df_new = pd.concat([df_WOMEN,df_MEN])\n",
    "    df_new = df_new.drop(['NO OF INFORMED AND SENSITIZED PEOPLE - MEN','NO OF INFORMED AND SENSITIZED PEOPLE - WOMEN'],axis=1)\n",
    "    return df_new"
   ]
  },
  {
   "cell_type": "code",
   "execution_count": 267,
   "id": "eb5d2a68",
   "metadata": {},
   "outputs": [],
   "source": [
    "preventive_actions_per_gender = preventive_actions[['YEAR', 'PERIOD', 'SEND DATE', 'ENTITY CODE', 'ENTITY',\n",
    "       'LINE CODE', 'INTERVENTION LINE', 'SERVICE CODE', 'SERVICE NAME',\n",
    "       'UBIGEO', 'DEPARTMENT', 'PROVINCE', 'DISTRICT', 'CARE CENTER CODE',\n",
    "       'CARE CENTER NAME', 'EMC NO.',\n",
    "       'NO OF INFORMED AND SENSITIZED PEOPLE - MEN',\n",
    "       'NO OF INFORMED AND SENSITIZED PEOPLE - WOMEN']]"
   ]
  },
  {
   "cell_type": "code",
   "execution_count": 268,
   "id": "910f8f3a",
   "metadata": {},
   "outputs": [],
   "source": [
    "preventive_actions_per_gender = gender_total_preventive(preventive_actions_per_gender)"
   ]
  },
  {
   "cell_type": "code",
   "execution_count": 271,
   "id": "2d7591e7",
   "metadata": {},
   "outputs": [
    {
     "data": {
      "text/plain": [
       "(1414, 18)"
      ]
     },
     "execution_count": 271,
     "metadata": {},
     "output_type": "execute_result"
    }
   ],
   "source": [
    "preventive_actions_per_gender.shape"
   ]
  },
  {
   "cell_type": "markdown",
   "id": "222b5bf4",
   "metadata": {},
   "source": [
    "<b> gender age "
   ]
  },
  {
   "cell_type": "code",
   "execution_count": 277,
   "id": "048aad73",
   "metadata": {},
   "outputs": [],
   "source": [
    "preventive_actions_gender_age = preventive_actions[['YEAR', 'PERIOD', 'SEND DATE', 'ENTITY CODE', 'ENTITY',\n",
    "       'LINE CODE', 'INTERVENTION LINE', 'SERVICE CODE', 'SERVICE NAME',\n",
    "       'UBIGEO', 'DEPARTMENT', 'PROVINCE', 'DISTRICT', 'CARE CENTER CODE',\n",
    "       'CARE CENTER NAME', 'EMC NO.',\n",
    "       'NO OF INFORMED AND SENSITIZED PEOPLE - MEN',\n",
    "       'NO OF INFORMED AND SENSITIZED PEOPLE - WOMEN',\n",
    "       'NO OF INFORMED AND SENSITIZED PEOPLE - 0_5 - TOTAL',\n",
    "       'NO OF INFORMED AND SENSITIZED PEOPLE - 0_5 - MEN',\n",
    "       'NO OF INFORMED AND SENSITIZED PEOPLE - 0_5 - WOMEN',\n",
    "       'NO OF INFORMED AND SENSITIZED PEOPLE - 6_11 - TOTAL',\n",
    "       'NO OF INFORMED AND SENSITIZED PEOPLE - 6_11 - MEN',\n",
    "       'NO OF INFORMED AND SENSITIZED PEOPLE - 6_11 - WOMEN',\n",
    "       'NO OF INFORMED AND SENSITIZED PEOPLE - 12_17 - TOTAL',\n",
    "       'NO OF INFORMED AND SENSITIZED PEOPLE - 12_17 - MEN',\n",
    "       'NO OF INFORMED AND SENSITIZED PEOPLE - 12_17 - WOMEN',\n",
    "       'NO OF INFORMED AND SENSITIZED PEOPLE - 18_29 - TOTAL',\n",
    "       'NO OF INFORMED AND SENSITIZED PEOPLE - 18_29 - MEN',\n",
    "       'NO OF INFORMED AND SENSITIZED PEOPLE - 18_29 - WOMEN',\n",
    "       'NO OF INFORMED AND SENSITIZED PEOPLE - 30_59 - TOTAL',\n",
    "       'NO OF INFORMED AND SENSITIZED PEOPLE - 30_59 - MEN',\n",
    "       'NO OF INFORMED AND SENSITIZED PEOPLE - 30_59 - WOMEN',\n",
    "       'NO OF INFORMED AND SENSITIZED PEOPLE - 60_MORE - TOTAL',\n",
    "       'NO OF INFORMED AND SENSITIVE PEOPLE - 60_MORE - MEN',\n",
    "       'NO OF INFORMED AND SENSITIZED PEOPLE - 60_MORE - WOMEN']]"
   ]
  },
  {
   "cell_type": "code",
   "execution_count": 287,
   "id": "22bd9e15",
   "metadata": {},
   "outputs": [],
   "source": [
    "preventive_actions_gender_age = preventive_actions_gender_age.rename(columns=  {'NO OF INFORMED AND SENSITIVE PEOPLE - 60_MORE - MEN' : 'NO OF INFORMED AND SENSITIZED PEOPLE - 60_MORE - MEN'})"
   ]
  },
  {
   "cell_type": "code",
   "execution_count": 289,
   "id": "a2e3f896",
   "metadata": {},
   "outputs": [],
   "source": [
    "def age_gender_preventive(df):\n",
    "    age_ranges = ['0_5', '6_11', '12_17', '18_29', '30_59', '60_MORE']\n",
    "    gender_categories = ['MEN', 'WOMEN']\n",
    "\n",
    "    dfs = []\n",
    "\n",
    "    for age_range in age_ranges:\n",
    "        for gender in gender_categories:\n",
    "            new_df = df.copy()\n",
    "            new_df['age'] = age_range\n",
    "            new_df['gender'] = gender\n",
    "            new_df['no cases'] = df[f'NO OF INFORMED AND SENSITIZED PEOPLE - {age_range} - {gender}']\n",
    "            dfs.append(new_df)\n",
    "    \n",
    "    df_new = pd.concat(dfs)\n",
    "    df_new = df_new.drop(['NO OF INFORMED AND SENSITIZED PEOPLE - MEN',\n",
    "       'NO OF INFORMED AND SENSITIZED PEOPLE - WOMEN',\n",
    "       'NO OF INFORMED AND SENSITIZED PEOPLE - 0_5 - TOTAL',\n",
    "       'NO OF INFORMED AND SENSITIZED PEOPLE - 0_5 - MEN',\n",
    "       'NO OF INFORMED AND SENSITIZED PEOPLE - 0_5 - WOMEN',\n",
    "       'NO OF INFORMED AND SENSITIZED PEOPLE - 6_11 - TOTAL',\n",
    "       'NO OF INFORMED AND SENSITIZED PEOPLE - 6_11 - MEN',\n",
    "       'NO OF INFORMED AND SENSITIZED PEOPLE - 6_11 - WOMEN',\n",
    "       'NO OF INFORMED AND SENSITIZED PEOPLE - 12_17 - TOTAL',\n",
    "       'NO OF INFORMED AND SENSITIZED PEOPLE - 12_17 - MEN',\n",
    "       'NO OF INFORMED AND SENSITIZED PEOPLE - 12_17 - WOMEN',\n",
    "       'NO OF INFORMED AND SENSITIZED PEOPLE - 18_29 - TOTAL',\n",
    "       'NO OF INFORMED AND SENSITIZED PEOPLE - 18_29 - MEN',\n",
    "       'NO OF INFORMED AND SENSITIZED PEOPLE - 18_29 - WOMEN',\n",
    "       'NO OF INFORMED AND SENSITIZED PEOPLE - 30_59 - TOTAL',\n",
    "       'NO OF INFORMED AND SENSITIZED PEOPLE - 30_59 - MEN',\n",
    "       'NO OF INFORMED AND SENSITIZED PEOPLE - 30_59 - WOMEN',\n",
    "       'NO OF INFORMED AND SENSITIZED PEOPLE - 60_MORE - TOTAL',\n",
    "       'NO OF INFORMED AND SENSITIZED PEOPLE - 60_MORE - MEN',\n",
    "       'NO OF INFORMED AND SENSITIZED PEOPLE - 60_MORE - WOMEN'],axis=1)\n",
    "\n",
    "    return df_new\n",
    "age_gender_preventive = age_gender_preventive(preventive_actions_gender_age)\n"
   ]
  },
  {
   "cell_type": "code",
   "execution_count": 295,
   "id": "5863428c",
   "metadata": {},
   "outputs": [],
   "source": [
    "preventive_actions_total = preventive_actions[['YEAR', 'PERIOD', 'SEND DATE', 'ENTITY CODE', 'ENTITY',\n",
    "       'LINE CODE', 'INTERVENTION LINE', 'SERVICE CODE', 'SERVICE NAME',\n",
    "       'UBIGEO', 'DEPARTMENT', 'PROVINCE', 'DISTRICT', 'CARE CENTER CODE',\n",
    "       'CARE CENTER NAME', 'EMC NO.','NO OF INFORMED AND SENSITIZED PEOPLE - TOTAL','NO OF PROMOTIONAL PREVENTIVE ACTIONS - TOTAL']] "
   ]
  },
  {
   "cell_type": "code",
   "execution_count": 298,
   "id": "539fcd8a",
   "metadata": {},
   "outputs": [],
   "source": [
    "preventive_actions_per_gender.to_csv('./final_data/preventive_actions_per_gender.csv')"
   ]
  },
  {
   "cell_type": "code",
   "execution_count": 299,
   "id": "205ae0a0",
   "metadata": {},
   "outputs": [],
   "source": [
    "age_gender_preventive.to_csv('./final_dataage_gender_preventive.csv')"
   ]
  },
  {
   "cell_type": "code",
   "execution_count": 300,
   "id": "69d8cfca",
   "metadata": {},
   "outputs": [],
   "source": [
    "preventive_actions_total.to_csv('./final_data/preventive_actions_total.csv')"
   ]
  },
  {
   "cell_type": "markdown",
   "id": "a4525068",
   "metadata": {},
   "source": [
    "## total_cases_attended "
   ]
  },
  {
   "cell_type": "code",
   "execution_count": 303,
   "id": "d0e8b579",
   "metadata": {},
   "outputs": [],
   "source": [
    "def gender_total_cases_attended(df):\n",
    "    df_MEN = df.copy()\n",
    "    df_MEN['gender'] ='MAN'\n",
    "    df_MEN['no cases'] = df_MEN['NO CASES ATTENDED - MEN - TOTAL'] \n",
    "    df_WOMEN = df.copy()\n",
    "    df_WOMEN['gender'] ='WOMAN'\n",
    "    df_WOMEN['no cases'] = df_WOMEN['NO CASES ATTENDED - WOMEN - TOTAL'] \n",
    "    df_new = pd.concat([df_WOMEN,df_MEN])\n",
    "    df_new = df_new.drop(['NO CASES ATTENDED - WOMEN - TOTAL','NO CASES ATTENDED - MEN - TOTAL'],axis=1)\n",
    "    return df_new"
   ]
  },
  {
   "cell_type": "code",
   "execution_count": 306,
   "id": "c952e250",
   "metadata": {},
   "outputs": [],
   "source": [
    "total_cases_attended_per_gender = total_cases_attended[['YEAR', 'PERIOD', 'SEND DATE', 'ENTITY CODE',\n",
    "       'NATIONAL PROGRAM AGAINST FAMILY AND SEXUAL VIOLENCE',\n",
    "       'INTERVENTION LINE CODE', 'INTERVENTION LINE', 'SERVICE CODE',\n",
    "       'NAME OF THE SERVICE',\n",
    "       \"LOCATION OF THE GEOGRAPHICAL LOCATION OF THE USER'S PLACE OF RESIDENCE - ACCORDING TO THE INEI\",\n",
    "       'DEPARTMENT', 'PROVINCE', 'DISTRICT', 'TOWN CENTER', 'RESIDENCE AREA',\n",
    "       'CARE CENTER CODE', 'NAME OF THE CARE CENTER',\n",
    "        'NO CASES ATTENDED - MEN - TOTAL',\n",
    "       'NO CASES ATTENDED - WOMEN - TOTAL']]"
   ]
  },
  {
   "cell_type": "code",
   "execution_count": 307,
   "id": "9206a45c",
   "metadata": {},
   "outputs": [],
   "source": [
    "total_cases_attended_per_gender = gender_total_cases_attended(total_cases_attended_per_gender)"
   ]
  },
  {
   "cell_type": "code",
   "execution_count": 310,
   "id": "43b04ac5",
   "metadata": {},
   "outputs": [
    {
     "data": {
      "text/plain": [
       "(20, 19)"
      ]
     },
     "execution_count": 310,
     "metadata": {},
     "output_type": "execute_result"
    }
   ],
   "source": [
    "total_cases_attended_per_gender.shape"
   ]
  },
  {
   "cell_type": "markdown",
   "id": "25bd8011",
   "metadata": {},
   "source": [
    "<b> Gender and age "
   ]
  },
  {
   "cell_type": "code",
   "execution_count": 313,
   "id": "b7ac3314",
   "metadata": {},
   "outputs": [
    {
     "data": {
      "text/plain": [
       "Index(['Unnamed: 0', 'YEAR', 'PERIOD', 'SEND DATE', 'ENTITY CODE',\n",
       "       'NATIONAL PROGRAM AGAINST FAMILY AND SEXUAL VIOLENCE',\n",
       "       'INTERVENTION LINE CODE', 'INTERVENTION LINE', 'SERVICE CODE',\n",
       "       'NAME OF THE SERVICE',\n",
       "       'LOCATION OF THE GEOGRAPHICAL LOCATION OF THE USER'S PLACE OF RESIDENCE - ACCORDING TO THE INEI',\n",
       "       'DEPARTMENT', 'PROVINCE', 'DISTRICT', 'TOWN CENTER', 'RESIDENCE AREA',\n",
       "       'CARE CENTER CODE', 'NAME OF THE CARE CENTER',\n",
       "       'NO CASES ATTENDED -TOTAL', 'NO CASES ATTENDED - MEN - TOTAL',\n",
       "       'NO CASES ATTENDED - WOMEN - TOTAL', 'NO CASES ATTENDED - 0_5 - TOTAL',\n",
       "       'NO CASES ATTENDED - 0_5 - MEN', 'NO CASES ATTENDED - 0_5 - WOMEN',\n",
       "       'NO CASES ATTENDED - 6_11 - TOTAL', 'NO CASES ATTENDED - 6_11 - MEN',\n",
       "       'NO CASES ATTENDED - 6_11 - WOMEN', 'NO CASES ATTENDED - 12_14 - TOTAL',\n",
       "       'NO CASES ATTENDED - 12_14 - MEN', 'NO CASES ATTENDED - 12_14 - WOMEN',\n",
       "       'NO CASES ATTENDED - 15_17 - TOTAL', 'NO CASES ATTENDED - 15_17 - MEN',\n",
       "       'NO CASES ATTENDED - 15_17 - WOMEN',\n",
       "       'NO CASES ATTENDED - 18_29 - TOTAL', 'NO CASES ATTENDED - 18_29 - MEN',\n",
       "       'NO CASES ATTENDED - 18_29 - WOMEN',\n",
       "       'NO CASES ATTENDED - 30_59 - TOTAL', 'NO CASES ATTENDED - 30_59 - MEN',\n",
       "       'NO CASES ATTENDED - 30_59 - WOMEN',\n",
       "       'NO CASES ATTENDED - 60_MORE- TOTAL',\n",
       "       'NO CASES ATTENDED - 60_MORE - MEN',\n",
       "       'NO CASES ATTENDED - 60_MORE - WOMEN'],\n",
       "      dtype='object')"
      ]
     },
     "execution_count": 313,
     "metadata": {},
     "output_type": "execute_result"
    }
   ],
   "source": [
    "total_cases_attended.columns"
   ]
  },
  {
   "cell_type": "code",
   "execution_count": 320,
   "id": "4d773a8d",
   "metadata": {},
   "outputs": [],
   "source": [
    "total_cases_attended_per_gender_age = total_cases_attended[['YEAR', 'PERIOD', 'SEND DATE', 'ENTITY CODE',\n",
    "       'NATIONAL PROGRAM AGAINST FAMILY AND SEXUAL VIOLENCE',\n",
    "       'INTERVENTION LINE CODE', 'INTERVENTION LINE', 'SERVICE CODE',\n",
    "       'NAME OF THE SERVICE',\n",
    "       \"LOCATION OF THE GEOGRAPHICAL LOCATION OF THE USER'S PLACE OF RESIDENCE - ACCORDING TO THE INEI\",\n",
    "       'DEPARTMENT', 'PROVINCE', 'DISTRICT', 'TOWN CENTER', 'RESIDENCE AREA',\n",
    "       'CARE CENTER CODE', 'NAME OF THE CARE CENTER',\n",
    "       'NO CASES ATTENDED - 0_5 - MEN',\n",
    "       'NO CASES ATTENDED - 0_5 - WOMEN',\n",
    "       'NO CASES ATTENDED - 6_11 - MEN',\n",
    "       'NO CASES ATTENDED - 6_11 - WOMEN',\n",
    "       'NO CASES ATTENDED - 12_14 - MEN',\n",
    "       'NO CASES ATTENDED - 12_14 - WOMEN',\n",
    "       'NO CASES ATTENDED - 15_17 - MEN',\n",
    "       'NO CASES ATTENDED - 15_17 - WOMEN',\n",
    "       'NO CASES ATTENDED - 18_29 - MEN',\n",
    "       'NO CASES ATTENDED - 18_29 - WOMEN',\n",
    "         'NO CASES ATTENDED - 30_59 - MEN',\n",
    "       'NO CASES ATTENDED - 30_59 - WOMEN',\n",
    "       'NO CASES ATTENDED - 60_MORE - MEN',\n",
    "       'NO CASES ATTENDED - 60_MORE - WOMEN']]"
   ]
  },
  {
   "cell_type": "code",
   "execution_count": 321,
   "id": "6d6680cd",
   "metadata": {},
   "outputs": [],
   "source": [
    "def age_gender_attended_cases(df):\n",
    "    age_ranges = ['0_5', '6_11', '12_14','15_17', '18_29', '30_59', '60_MORE']\n",
    "    gender_categories = ['MEN', 'WOMEN']\n",
    "\n",
    "    dfs = []\n",
    "\n",
    "    for age_range in age_ranges:\n",
    "        for gender in gender_categories:\n",
    "            new_df = df.copy()\n",
    "            new_df['age'] = age_range\n",
    "            new_df['gender'] = gender\n",
    "            new_df['no cases'] = df[f'NO CASES ATTENDED - {age_range} - {gender}']\n",
    "            dfs.append(new_df)\n",
    "    \n",
    "    df_new = pd.concat(dfs)\n",
    "    df_new = df_new.drop(['NO CASES ATTENDED - 0_5 - MEN',\n",
    "       'NO CASES ATTENDED - 0_5 - WOMEN',\n",
    "       'NO CASES ATTENDED - 6_11 - MEN',\n",
    "       'NO CASES ATTENDED - 6_11 - WOMEN',\n",
    "       'NO CASES ATTENDED - 12_14 - MEN',\n",
    "       'NO CASES ATTENDED - 12_14 - WOMEN',\n",
    "       'NO CASES ATTENDED - 15_17 - MEN',\n",
    "       'NO CASES ATTENDED - 15_17 - WOMEN',\n",
    "       'NO CASES ATTENDED - 18_29 - MEN',\n",
    "       'NO CASES ATTENDED - 18_29 - WOMEN',\n",
    "         'NO CASES ATTENDED - 30_59 - MEN',\n",
    "       'NO CASES ATTENDED - 30_59 - WOMEN',\n",
    "       'NO CASES ATTENDED - 60_MORE - MEN',\n",
    "       'NO CASES ATTENDED - 60_MORE - WOMEN'],axis=1)\n",
    "\n",
    "    return df_new\n",
    "total_cases_attended_per_gender_age = age_gender_attended_cases(total_cases_attended_per_gender_age)\n"
   ]
  },
  {
   "cell_type": "code",
   "execution_count": 327,
   "id": "73fdb273",
   "metadata": {},
   "outputs": [],
   "source": [
    "total_cases_attended_total = total_cases_attended[['YEAR', 'PERIOD', 'SEND DATE', 'ENTITY CODE',\n",
    "       'NATIONAL PROGRAM AGAINST FAMILY AND SEXUAL VIOLENCE',\n",
    "       'INTERVENTION LINE CODE', 'INTERVENTION LINE', 'SERVICE CODE',\n",
    "       'NAME OF THE SERVICE',\n",
    "       \"LOCATION OF THE GEOGRAPHICAL LOCATION OF THE USER'S PLACE OF RESIDENCE - ACCORDING TO THE INEI\",\n",
    "       'DEPARTMENT', 'PROVINCE', 'DISTRICT', 'TOWN CENTER', 'RESIDENCE AREA',\n",
    "       'CARE CENTER CODE', 'NAME OF THE CARE CENTER',\n",
    "       'NO CASES ATTENDED -TOTAL']]"
   ]
  },
  {
   "cell_type": "code",
   "execution_count": 328,
   "id": "f1f2a227",
   "metadata": {},
   "outputs": [],
   "source": [
    "total_cases_attended_total.to_csv('./final_data/total_cases_attended_total.csv')"
   ]
  },
  {
   "cell_type": "code",
   "execution_count": 329,
   "id": "79124c92",
   "metadata": {},
   "outputs": [],
   "source": [
    "total_cases_attended_per_gender.to_csv('./final_data/total_cases_attended_per_gender.csv')"
   ]
  },
  {
   "cell_type": "code",
   "execution_count": 330,
   "id": "659fd596",
   "metadata": {},
   "outputs": [],
   "source": [
    "total_cases_attended_per_gender_age.to_csv('./final_data/total_cases_attended_per_gender_age.csv')"
   ]
  },
  {
   "cell_type": "markdown",
   "id": "f9226618",
   "metadata": {},
   "source": [
    "## Victimes of femicide "
   ]
  },
  {
   "cell_type": "code",
   "execution_count": 333,
   "id": "61286143",
   "metadata": {},
   "outputs": [],
   "source": [
    "victims_femicide_total = victims_femicide[['YEAR', 'PERIOD', 'SEND DATE', 'ENTITY CODE', 'ENTITY',\n",
    "       'LINE CODE', 'INTERVENTION LINE', 'SERVICE CODE', 'SERVICE NAME',\n",
    "       'DEPARTMENT', 'PROVINCE', 'DISTRICT', 'CENTER_CODE',\n",
    "       'NAME OF CARE CENTER', 'Total_number of cases']]"
   ]
  },
  {
   "cell_type": "code",
   "execution_count": 334,
   "id": "b0d5680f",
   "metadata": {},
   "outputs": [],
   "source": [
    "victims_femicide_per_age = victims_femicide[['YEAR', 'PERIOD', 'SEND DATE', 'ENTITY CODE', 'ENTITY',\n",
    "       'LINE CODE', 'INTERVENTION LINE', 'SERVICE CODE', 'SERVICE NAME',\n",
    "       'DEPARTMENT', 'PROVINCE', 'DISTRICT', 'CENTER_CODE',\n",
    "       'NAME OF CARE CENTER',\n",
    "       'NO OF FEMICIDE CASES - 0_5 - WOMEN',\n",
    "       'NO OF FEMICIDE CASES - 6_11 - WOMEN',\n",
    "       'NO OF FEMICIDE CASES - 12_17 - WOMEN',\n",
    "       'NO OF FEMICIDE CASES - 18_29 - WOMEN',\n",
    "       'NO OF FEMICIDE CASES - 30_59 - WOMEN',\n",
    "       'NO OF FEMICIDE CASES - 60_MORE - WOMEN']]"
   ]
  },
  {
   "cell_type": "code",
   "execution_count": 339,
   "id": "0d84cc05",
   "metadata": {},
   "outputs": [],
   "source": [
    "def age_victims_femicide(df):\n",
    "    age_ranges = ['0_5', '6_11', '12_17', '18_29', '30_59', '60_MORE']\n",
    "\n",
    "    dfs = []\n",
    "\n",
    "    for age_range in age_ranges:\n",
    "        new_df = df.copy()\n",
    "        new_df['age'] = age_range\n",
    "        new_df['no cases'] = df[f'NO OF FEMICIDE CASES - {age_range} - WOMEN']\n",
    "        dfs.append(new_df)\n",
    "    \n",
    "    df_new = pd.concat(dfs)\n",
    "    df_new = df_new.drop(['NO OF FEMICIDE CASES - 0_5 - WOMEN',\n",
    "       'NO OF FEMICIDE CASES - 6_11 - WOMEN',\n",
    "       'NO OF FEMICIDE CASES - 12_17 - WOMEN',\n",
    "       'NO OF FEMICIDE CASES - 18_29 - WOMEN',\n",
    "       'NO OF FEMICIDE CASES - 30_59 - WOMEN',\n",
    "       'NO OF FEMICIDE CASES - 60_MORE - WOMEN'],axis=1)\n",
    "\n",
    "    return df_new\n",
    "victims_femicide_per_age = age_victims_femicide(victims_femicide_per_age)\n"
   ]
  },
  {
   "cell_type": "code",
   "execution_count": 344,
   "id": "64632390",
   "metadata": {},
   "outputs": [
    {
     "data": {
      "text/plain": [
       "(1092, 16)"
      ]
     },
     "execution_count": 344,
     "metadata": {},
     "output_type": "execute_result"
    }
   ],
   "source": [
    "victims_femicide_per_age.shape \n"
   ]
  },
  {
   "cell_type": "code",
   "execution_count": 346,
   "id": "9f8029e7",
   "metadata": {},
   "outputs": [
    {
     "data": {
      "text/plain": [
       "(182, 28)"
      ]
     },
     "execution_count": 346,
     "metadata": {},
     "output_type": "execute_result"
    }
   ],
   "source": [
    "victims_femicide.shape"
   ]
  },
  {
   "cell_type": "markdown",
   "id": "51522d10",
   "metadata": {},
   "source": [
    "<b> relational bond "
   ]
  },
  {
   "cell_type": "code",
   "execution_count": 350,
   "id": "4d3b5ad5",
   "metadata": {},
   "outputs": [],
   "source": [
    "victims_femicide_relational_bond = victims_femicide[['YEAR', 'PERIOD', 'SEND DATE', 'ENTITY CODE', 'ENTITY',\n",
    "       'LINE CODE', 'INTERVENTION LINE', 'SERVICE CODE', 'SERVICE NAME',\n",
    "       'DEPARTMENT', 'PROVINCE', 'DISTRICT', 'CENTER_CODE',\n",
    "       'NAME OF CARE CENTER','NO CASES - RELATIONAL BOND - COUPLE','NO CASES - RELATIONAL BOND - FAMILY']]"
   ]
  },
  {
   "cell_type": "code",
   "execution_count": 347,
   "id": "9439e690",
   "metadata": {},
   "outputs": [],
   "source": [
    "def g(df):\n",
    "    df_couple = df.copy()\n",
    "    df_couple['relational bond'] = 'couple'\n",
    "    df_couple['no cases'] = df_couple['NO CASES - RELATIONAL BOND - COUPLE']\n",
    "    df_family = df.copy()\n",
    "    df_family['relational bond'] = 'family'\n",
    "    df_family['no cases'] = df_family['NO CASES - RELATIONAL BOND - FAMILY']\n",
    "    df_new = pd.concat([df_couple, df_family])\n",
    "    return df_new"
   ]
  },
  {
   "cell_type": "code",
   "execution_count": 351,
   "id": "5f699f38",
   "metadata": {},
   "outputs": [],
   "source": [
    "victims_femicide_relational_bond = g(victims_femicide_relational_bond) "
   ]
  },
  {
   "cell_type": "code",
   "execution_count": 357,
   "id": "0211d449",
   "metadata": {},
   "outputs": [],
   "source": [
    "victims_femicide_relational_bond = victims_femicide_relational_bond.drop(['NO CASES - RELATIONAL BOND - COUPLE',\n",
    "       'NO CASES - RELATIONAL BOND - FAMILY'],axis=1)"
   ]
  },
  {
   "cell_type": "markdown",
   "id": "f882ed57",
   "metadata": {},
   "source": [
    "<b> Relational link "
   ]
  },
  {
   "cell_type": "code",
   "execution_count": 361,
   "id": "eae4dd41",
   "metadata": {},
   "outputs": [
    {
     "data": {
      "text/plain": [
       "Index(['Unnamed: 0', 'YEAR', 'PERIOD', 'SEND DATE', 'ENTITY CODE', 'ENTITY',\n",
       "       'LINE CODE', 'INTERVENTION LINE', 'SERVICE CODE', 'SERVICE NAME',\n",
       "       'DEPARTMENT', 'PROVINCE', 'DISTRICT', 'CENTER_CODE',\n",
       "       'NAME OF CARE CENTER', 'Total_number of cases',\n",
       "       'NO OF FEMICIDE CASES - 0_5 - WOMEN',\n",
       "       'NO OF FEMICIDE CASES - 6_11 - WOMEN',\n",
       "       'NO OF FEMICIDE CASES - 12_17 - WOMEN',\n",
       "       'NO OF FEMICIDE CASES - 18_29 - WOMEN',\n",
       "       'NO OF FEMICIDE CASES - 30_59 - WOMEN',\n",
       "       'NO OF FEMICIDE CASES - 60_MORE - WOMEN',\n",
       "       'NO CASES - RELATIONAL BOND - COUPLE',\n",
       "       'NO CASES - RELATIONAL LINK - EX PARTNER',\n",
       "       'NO CASES - RELATIONAL BOND - FAMILY',\n",
       "       'NO CASES - RELATIONAL LINK - KNOWN',\n",
       "       'NO CASES - RELATIONAL LINK - UNKNOWN',\n",
       "       'NO CASES - RELATIONAL LINK - OTHERS'],\n",
       "      dtype='object')"
      ]
     },
     "execution_count": 361,
     "metadata": {},
     "output_type": "execute_result"
    }
   ],
   "source": [
    "victims_femicide.columns"
   ]
  },
  {
   "cell_type": "code",
   "execution_count": 371,
   "id": "cb17f2aa",
   "metadata": {},
   "outputs": [],
   "source": [
    "victims_femicide_relational_link  = victims_femicide[['YEAR', 'PERIOD', 'SEND DATE', 'ENTITY CODE', 'ENTITY',\n",
    "       'LINE CODE', 'INTERVENTION LINE', 'SERVICE CODE', 'SERVICE NAME',\n",
    "       'DEPARTMENT', 'PROVINCE', 'DISTRICT', 'CENTER_CODE',\n",
    "       'NAME OF CARE CENTER','NO CASES - RELATIONAL LINK - EX PARTNER',\n",
    "       'NO CASES - RELATIONAL LINK - KNOWN',\n",
    "       'NO CASES - RELATIONAL LINK - UNKNOWN',\n",
    "       'NO CASES - RELATIONAL LINK - OTHERS']]"
   ]
  },
  {
   "cell_type": "code",
   "execution_count": 373,
   "id": "b090d330",
   "metadata": {},
   "outputs": [
    {
     "data": {
      "text/plain": [
       "(182, 18)"
      ]
     },
     "execution_count": 373,
     "metadata": {},
     "output_type": "execute_result"
    }
   ],
   "source": [
    "victims_femicide_relational_link.shape"
   ]
  },
  {
   "cell_type": "code",
   "execution_count": 374,
   "id": "a7c22970",
   "metadata": {},
   "outputs": [
    {
     "data": {
      "text/plain": [
       "Index(['YEAR', 'PERIOD', 'SEND DATE', 'ENTITY CODE', 'ENTITY', 'LINE CODE',\n",
       "       'INTERVENTION LINE', 'SERVICE CODE', 'SERVICE NAME', 'DEPARTMENT',\n",
       "       'PROVINCE', 'DISTRICT', 'CENTER_CODE', 'NAME OF CARE CENTER',\n",
       "       'NO CASES - RELATIONAL LINK - EX PARTNER',\n",
       "       'NO CASES - RELATIONAL LINK - KNOWN',\n",
       "       'NO CASES - RELATIONAL LINK - UNKNOWN',\n",
       "       'NO CASES - RELATIONAL LINK - OTHERS'],\n",
       "      dtype='object')"
      ]
     },
     "execution_count": 374,
     "metadata": {},
     "output_type": "execute_result"
    }
   ],
   "source": [
    "victims_femicide_relational_link.columns"
   ]
  },
  {
   "cell_type": "code",
   "execution_count": 375,
   "id": "4d77b0c3",
   "metadata": {},
   "outputs": [],
   "source": [
    "def rel_link(df):\n",
    "    df_partner = df.copy()\n",
    "    df_partner['relational link'] = 'EX PARTNER'\n",
    "    df_partner['no cases'] = df_partner['NO CASES - RELATIONAL LINK - EX PARTNER']\n",
    "    df_KNOWN = df.copy()\n",
    "    df_KNOWN['relational link'] = 'KNOWN'\n",
    "    df_KNOWN['no cases'] = df_KNOWN['NO CASES - RELATIONAL LINK - KNOWN']\n",
    "    df_UNKNOWN = df.copy()\n",
    "    df_UNKNOWN['relational link'] = 'UNKNOWN'\n",
    "    df_UNKNOWN['no cases'] = df_UNKNOWN['NO CASES - RELATIONAL LINK - UNKNOWN']\n",
    "    df_OTHERS = df.copy()\n",
    "    df_OTHERS['relational link'] = 'OTHERS'\n",
    "    df_OTHERS['no cases'] = df_OTHERS['NO CASES - RELATIONAL LINK - OTHERS']\n",
    "    \n",
    "    df_new = pd.concat([df_partner, df_KNOWN,df_UNKNOWN,df_OTHERS])\n",
    "    return df_new"
   ]
  },
  {
   "cell_type": "code",
   "execution_count": 376,
   "id": "ded9b170",
   "metadata": {},
   "outputs": [],
   "source": [
    "victims_femicide_relational_link = rel_link(victims_femicide_relational_link)"
   ]
  },
  {
   "cell_type": "code",
   "execution_count": 377,
   "id": "0802eb07",
   "metadata": {},
   "outputs": [],
   "source": [
    "victims_femicide_relational_link = victims_femicide_relational_link.drop(['NO CASES - RELATIONAL LINK - EX PARTNER',\n",
    "       'NO CASES - RELATIONAL LINK - KNOWN',\n",
    "       'NO CASES - RELATIONAL LINK - UNKNOWN',\n",
    "       'NO CASES - RELATIONAL LINK - OTHERS'],axis=1)"
   ]
  },
  {
   "cell_type": "code",
   "execution_count": 378,
   "id": "e8fa31b1",
   "metadata": {},
   "outputs": [
    {
     "data": {
      "text/plain": [
       "(728, 16)"
      ]
     },
     "execution_count": 378,
     "metadata": {},
     "output_type": "execute_result"
    }
   ],
   "source": [
    "victims_femicide_relational_link.shape"
   ]
  },
  {
   "cell_type": "code",
   "execution_count": 382,
   "id": "da304562",
   "metadata": {},
   "outputs": [],
   "source": [
    "victims_femicide_per_age.to_csv('./final_data/victims_femicide_per_age.csv')"
   ]
  },
  {
   "cell_type": "code",
   "execution_count": 383,
   "id": "518e754f",
   "metadata": {},
   "outputs": [],
   "source": [
    "victims_femicide_relational_bond.to_csv('./final_data/victims_femicide_relational_bond.csv')"
   ]
  },
  {
   "cell_type": "code",
   "execution_count": 384,
   "id": "a392f6dc",
   "metadata": {},
   "outputs": [],
   "source": [
    "victims_femicide_relational_link.to_csv('./final_data/victims_femicide_relational_link.csv')"
   ]
  },
  {
   "cell_type": "code",
   "execution_count": null,
   "id": "def6a38e",
   "metadata": {},
   "outputs": [],
   "source": []
  }
 ],
 "metadata": {
  "kernelspec": {
   "display_name": "Python 3 (ipykernel)",
   "language": "python",
   "name": "python3"
  },
  "language_info": {
   "codemirror_mode": {
    "name": "ipython",
    "version": 3
   },
   "file_extension": ".py",
   "mimetype": "text/x-python",
   "name": "python",
   "nbconvert_exporter": "python",
   "pygments_lexer": "ipython3",
   "version": "3.11.4"
  }
 },
 "nbformat": 4,
 "nbformat_minor": 5
}
