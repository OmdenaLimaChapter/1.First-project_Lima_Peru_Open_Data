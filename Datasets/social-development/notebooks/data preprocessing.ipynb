{
 "cells": [
  {
   "cell_type": "code",
   "execution_count": 1,
   "id": "552b1ad8",
   "metadata": {},
   "outputs": [],
   "source": [
    "import pandas as pd "
   ]
  },
  {
   "cell_type": "code",
   "execution_count": 2,
   "id": "8ae63c07",
   "metadata": {},
   "outputs": [],
   "source": [
    "attempted_femicide = pd.read_csv('./data/attempted_femicide.csv',encoding='latin-1')"
   ]
  },
  {
   "cell_type": "code",
   "execution_count": 3,
   "id": "e13cc320",
   "metadata": {},
   "outputs": [],
   "source": [
    "victims_femicide  = pd.read_csv('./data/victims_femicide.csv',encoding='latin-1')"
   ]
  },
  {
   "cell_type": "code",
   "execution_count": 4,
   "id": "8618d9e2",
   "metadata": {},
   "outputs": [],
   "source": [
    "total_cases_attended = pd.read_csv('./data/total_cases_attended.csv',encoding='latin-1') "
   ]
  },
  {
   "cell_type": "code",
   "execution_count": 5,
   "id": "7dda0743",
   "metadata": {},
   "outputs": [],
   "source": [
    "females_and_family_violance = pd.read_csv('./data/cases attended for violence against women, members of the family group and sexual violence.csv',encoding='latin-1')"
   ]
  },
  {
   "cell_type": "code",
   "execution_count": 6,
   "id": "0e1920d2",
   "metadata": {},
   "outputs": [],
   "source": [
    "male_aggressors_women_fam = pd.read_csv('./data/male_agressors_treated_for_violance_woman_fam.csv',encoding='latin-1') "
   ]
  },
  {
   "cell_type": "code",
   "execution_count": 7,
   "id": "b31266d4",
   "metadata": {},
   "outputs": [],
   "source": [
    "preventive_actions = pd.read_csv('./data/preventive promotional actions and people informed andor sensitized.csv',encoding='latin-1') "
   ]
  },
  {
   "cell_type": "code",
   "execution_count": 8,
   "id": "e411a97b",
   "metadata": {},
   "outputs": [],
   "source": [
    "attempted_femicide = attempted_femicide[attempted_femicide['DEPARTMENT'].str.contains('lima', case=False)] \n"
   ]
  },
  {
   "cell_type": "code",
   "execution_count": 9,
   "id": "07635aca",
   "metadata": {},
   "outputs": [],
   "source": [
    "females_and_family_violance = females_and_family_violance[females_and_family_violance['DEPARTMENT'].str.contains('lima', case=False)] "
   ]
  },
  {
   "cell_type": "code",
   "execution_count": 10,
   "id": "2f535f7f",
   "metadata": {},
   "outputs": [],
   "source": [
    "male_aggressors_women_fam = male_aggressors_women_fam[male_aggressors_women_fam['DEPARTMENT'].str.contains('lima', case=False)] \n"
   ]
  },
  {
   "cell_type": "code",
   "execution_count": 12,
   "id": "519b4a06",
   "metadata": {},
   "outputs": [],
   "source": [
    "preventive_actions= preventive_actions[preventive_actions['DEPARTMENT'].str.contains('lima', case=False)] "
   ]
  },
  {
   "cell_type": "code",
   "execution_count": 14,
   "id": "261d856b",
   "metadata": {},
   "outputs": [],
   "source": [
    "total_cases_attended= total_cases_attended[(total_cases_attended['DEPARTMENT'].str.contains('lima', case=False)) | (total_cases_attended['TOWN CENTER'].str.contains('lima', case=False) )] "
   ]
  },
  {
   "cell_type": "code",
   "execution_count": 16,
   "id": "4c6459b2",
   "metadata": {},
   "outputs": [],
   "source": [
    "victims_femicide = victims_femicide[victims_femicide['DEPARTMENT'].str.contains('lima', case=False)] "
   ]
  },
  {
   "cell_type": "code",
   "execution_count": 18,
   "id": "9a7fcdb1",
   "metadata": {},
   "outputs": [],
   "source": [
    "attempted_femicide.to_csv('./lima_data/attempted_femicide.csv')"
   ]
  },
  {
   "cell_type": "code",
   "execution_count": 19,
   "id": "abcc65b7",
   "metadata": {},
   "outputs": [],
   "source": [
    "attempted_femicide.to_csv('./lima_data/attempted_femicide.csv')\n",
    "victims_femicide.to_csv('./lima_data/victims_femicide.csv')\n",
    "total_cases_attended.to_csv('./lima_data/total_cases_attended.csv')\n",
    "females_and_family_violance.to_csv('./lima_data/females_and_family_violance.csv')\n",
    "male_aggressors_women_fam.to_csv('./lima_data/male_aggressors_women_fam.csv')\n",
    "preventive_actions.to_csv('./lima_data/preventive_actions.csv')"
   ]
  },
  {
   "cell_type": "code",
   "execution_count": 20,
   "id": "915aaf45",
   "metadata": {},
   "outputs": [],
   "source": [
    "total_cases_attended.to_csv('./lima_data/total_cases_attended.csv')"
   ]
  },
  {
   "cell_type": "code",
   "execution_count": 21,
   "id": "ac337351",
   "metadata": {},
   "outputs": [],
   "source": [
    "females_and_family_violance.to_csv('./lima_data/females_and_family_violance.csv')"
   ]
  },
  {
   "cell_type": "code",
   "execution_count": 22,
   "id": "11debfcd",
   "metadata": {},
   "outputs": [],
   "source": [
    "male_aggressors_women_fam.to_csv('./lima_data/male_aggressors_women_fam.csv')"
   ]
  },
  {
   "cell_type": "code",
   "execution_count": 23,
   "id": "de5a6a2c",
   "metadata": {},
   "outputs": [],
   "source": [
    "preventive_actions.to_csv('./lima_data/preventive_actions.csv')"
   ]
  },
  {
   "cell_type": "code",
   "execution_count": 24,
   "id": "28ee2a49",
   "metadata": {},
   "outputs": [],
   "source": [
    "common_elements = set(attempted_femicide).intersection(victims_femicide, total_cases_attended) \n",
    "common_elements = set(common_elements).intersection(females_and_family_violance, male_aggressors_women_fam,preventive_actions) "
   ]
  },
  {
   "cell_type": "code",
   "execution_count": 27,
   "id": "4f16a6a3",
   "metadata": {},
   "outputs": [],
   "source": [
    "attempted_femicide = attempted_femicide.rename(columns={'CASE NO - RELATIONAL LINK - EX PARTNER': 'NO CASES - RELATIONAL LINK - EX PARTNER'})\n"
   ]
  },
  {
   "cell_type": "code",
   "execution_count": 28,
   "id": "49e4b7f2",
   "metadata": {},
   "outputs": [],
   "source": [
    "attempted_femicide = attempted_femicide.rename(columns={'NUMBER OF CASES - WOMEN': 'Total_number of cases'})\n"
   ]
  },
  {
   "cell_type": "code",
   "execution_count": 30,
   "id": "b08f1e17",
   "metadata": {},
   "outputs": [],
   "source": [
    "victims_femicide= victims_femicide.rename(columns={'NUMBER OF CASES - WOMEN': 'Total_number of cases'})"
   ]
  },
  {
   "cell_type": "code",
   "execution_count": 31,
   "id": "f412417b",
   "metadata": {},
   "outputs": [],
   "source": [
    "for elem in victims_femicide.columns : \n",
    "    if elem.startswith('NÂ°') : \n",
    "        new_col = elem.replace('NÂ°','NO')\n",
    "        victims_femicide= victims_femicide.rename(columns={elem: new_col}) \n",
    "        "
   ]
  },
  {
   "cell_type": "code",
   "execution_count": 32,
   "id": "a4e48cf2",
   "metadata": {},
   "outputs": [],
   "source": [
    "victims_femicide = victims_femicide.rename(columns={'CASE NO. - RELATIONAL LINK - EX PARTNER': 'NO CASES - RELATIONAL LINK - EX PARTNER'})\n"
   ]
  },
  {
   "cell_type": "code",
   "execution_count": 33,
   "id": "068e825d",
   "metadata": {},
   "outputs": [],
   "source": [
    "for elem in females_and_family_violance.columns : \n",
    "    if elem.startswith('NÂ°') : \n",
    "        new_col = elem.replace('NÂ°','NO')\n",
    "        females_and_family_violance= females_and_family_violance.rename(columns={elem: new_col}) \n",
    "        "
   ]
  },
  {
   "cell_type": "code",
   "execution_count": 34,
   "id": "c9d887f2",
   "metadata": {},
   "outputs": [],
   "source": [
    "for elem in preventive_actions.columns : \n",
    "    if elem.startswith('NÂ°') : \n",
    "        new_col = elem.replace('NÂ°','NO')\n",
    "        preventive_actions= preventive_actions.rename(columns={elem: new_col}) \n",
    "        "
   ]
  },
  {
   "cell_type": "code",
   "execution_count": 36,
   "id": "abf4d526",
   "metadata": {},
   "outputs": [],
   "source": [
    "numeric_columns = attempted_femicide.select_dtypes(['int64', 'float64']).columns\n",
    "attempted_femicide[numeric_columns] = attempted_femicide[numeric_columns].fillna(0)"
   ]
  },
  {
   "cell_type": "code",
   "execution_count": 37,
   "id": "51aacb49",
   "metadata": {},
   "outputs": [],
   "source": [
    "numeric_columns = victims_femicide.select_dtypes(['int64', 'float64']).columns\n",
    "victims_femicide[numeric_columns] = victims_femicide[numeric_columns].fillna(0)"
   ]
  },
  {
   "cell_type": "code",
   "execution_count": 38,
   "id": "7b1a4997",
   "metadata": {},
   "outputs": [],
   "source": [
    "numeric_columns = total_cases_attended.select_dtypes(['int64', 'float64']).columns\n",
    "total_cases_attended[numeric_columns] = total_cases_attended[numeric_columns].fillna(0)"
   ]
  },
  {
   "cell_type": "code",
   "execution_count": 39,
   "id": "3f4e004a",
   "metadata": {},
   "outputs": [],
   "source": [
    "numeric_columns = females_and_family_violance.select_dtypes(['int64', 'float64']).columns\n",
    "females_and_family_violance[numeric_columns] = females_and_family_violance[numeric_columns].fillna(0)"
   ]
  },
  {
   "cell_type": "code",
   "execution_count": 40,
   "id": "3b65f7af",
   "metadata": {},
   "outputs": [],
   "source": [
    "numeric_columns = male_aggressors_women_fam.select_dtypes(['int64', 'float64']).columns\n",
    "male_aggressors_women_fam[numeric_columns] = male_aggressors_women_fam[numeric_columns].fillna(0)"
   ]
  },
  {
   "cell_type": "code",
   "execution_count": 41,
   "id": "8d5ebb05",
   "metadata": {},
   "outputs": [],
   "source": [
    "numeric_columns = preventive_actions.select_dtypes(['int64', 'float64']).columns\n",
    "preventive_actions[numeric_columns] = preventive_actions[numeric_columns].fillna(0)"
   ]
  },
  {
   "cell_type": "code",
   "execution_count": 42,
   "id": "16dd8f47",
   "metadata": {},
   "outputs": [],
   "source": [
    "females_and_family_violance['NO CASES ATTENDED-TOTAL']= pd.to_numeric(females_and_family_violance['NO CASES ATTENDED-TOTAL'],errors='coerce')"
   ]
  },
  {
   "cell_type": "code",
   "execution_count": 43,
   "id": "7b673bc7",
   "metadata": {},
   "outputs": [],
   "source": [
    "for elem in [\n",
    "'NO CASES ATTENDED - WOMEN - TOTAL',                    \n",
    "'NO CASES ATTENDED - PSYCHOLOGICAL VIOLENCE',         \n",
    "'NO CASES ATTENDED - PHYSICAL VIOLENCE','NO CASES ATTENDED - 30_59 - TOTAL','NUMBER OF ACTIVITIES - TOTAL','NO CASES ATTENDED - 30_59 - WOMEN'] : \n",
    "    females_and_family_violance[elem]= pd.to_numeric(females_and_family_violance[elem],errors='coerce')"
   ]
  },
  {
   "cell_type": "code",
   "execution_count": 44,
   "id": "50c5696e",
   "metadata": {},
   "outputs": [],
   "source": [
    "for elem in [\n",
    "'NUM_CASES_MEN',                    \n",
    "'NUM_CASES',  \n",
    "'NUM_CUSTOM ACTIVITIES']: \n",
    "    male_aggressors_women_fam[elem]= pd.to_numeric(male_aggressors_women_fam[elem],errors='coerce')"
   ]
  },
  {
   "cell_type": "code",
   "execution_count": 45,
   "id": "4dfee97d",
   "metadata": {},
   "outputs": [],
   "source": [
    "male_aggressors_women_fam= male_aggressors_women_fam.fillna(0)"
   ]
  },
  {
   "cell_type": "code",
   "execution_count": 46,
   "id": "53e3aad8",
   "metadata": {},
   "outputs": [],
   "source": [
    "for elem in ['NO OF INFORMED AND SENSITIZED PEOPLE - TOTAL' ,             \n",
    "'NO OF INFORMED AND SENSITIZED PEOPLE - MEN'        ,\n",
    "'NO OF INFORMED AND SENSITIZED PEOPLE - WOMEN' ,              \n",
    "'NO OF INFORMED AND SENSITIZED PEOPLE - 0_5 - TOTAL'   ,      \n",
    "'NO OF INFORMED AND SENSITIZED PEOPLE - 0_5 - MEN'      ,     \n",
    "'NO OF INFORMED AND SENSITIZED PEOPLE - 0_5 - WOMEN'     ,    \n",
    "'NO OF INFORMED AND SENSITIZED PEOPLE - 6_11 - TOTAL'     ,   \n",
    "'NO OF INFORMED AND SENSITIZED PEOPLE - 6_11 - MEN'        ,  \n",
    "'NO OF INFORMED AND SENSITIZED PEOPLE - 6_11 - WOMEN'       , \n",
    "'NO OF INFORMED AND SENSITIZED PEOPLE - 12_17 - TOTAL'       ,\n",
    "'NO OF INFORMED AND SENSITIZED PEOPLE - 12_17 - MEN'         ,\n",
    "'NO OF INFORMED AND SENSITIZED PEOPLE - 12_17 - WOMEN'       ,\n",
    "'NO OF INFORMED AND SENSITIZED PEOPLE - 18_29 - TOTAL'       ,\n",
    "'NO OF INFORMED AND SENSITIZED PEOPLE - 18_29 - MEN'         ,\n",
    "'NO OF INFORMED AND SENSITIZED PEOPLE - 18_29 - WOMEN'       ,\n",
    "'NO OF INFORMED AND SENSITIZED PEOPLE - 30_59 - TOTAL'       ,\n",
    "'NO OF INFORMED AND SENSITIZED PEOPLE - 30_59 - MEN'         ,\n",
    "'NO OF INFORMED AND SENSITIZED PEOPLE - 30_59 - WOMEN'       ,\n",
    "'NO OF INFORMED AND SENSITIZED PEOPLE - 60_MORE - TOTAL'     ,\n",
    "'NO OF INFORMED AND SENSITIVE PEOPLE - 60_MORE - MEN'        ,\n",
    "'NO OF INFORMED AND SENSITIZED PEOPLE - 60_MORE - WOMEN'     ,\n",
    "'NO OF PROMOTIONAL PREVENTIVE ACTIONS - TOTAL' ] : \n",
    "        preventive_actions[elem]= pd.to_numeric(preventive_actions[elem],errors='coerce')"
   ]
  },
  {
   "cell_type": "code",
   "execution_count": 47,
   "id": "4adaaed6",
   "metadata": {},
   "outputs": [],
   "source": [
    "numeric_columns = preventive_actions.select_dtypes(['int64', 'float64']).columns\n",
    "preventive_actions[numeric_columns] = preventive_actions[numeric_columns].fillna(0)"
   ]
  },
  {
   "cell_type": "code",
   "execution_count": 48,
   "id": "5bf766e6",
   "metadata": {},
   "outputs": [
    {
     "data": {
      "text/plain": [
       "YEAR                                                      0\n",
       "PERIOD                                                    0\n",
       "SEND DATE                                                 0\n",
       "ENTITY CODE                                               0\n",
       "ENTITY                                                    0\n",
       "LINE CODE                                                 0\n",
       "INTERVENTION LINE                                         0\n",
       "SERVICE CODE                                              0\n",
       "SERVICE NAME                                              0\n",
       "UBIGEO                                                    0\n",
       "DEPARTMENT                                                0\n",
       "PROVINCE                                                  0\n",
       "DISTRICT                                                  0\n",
       "CARE CENTER CODE                                          0\n",
       "CARE CENTER NAME                                          7\n",
       "EMC NO.                                                   0\n",
       "NO OF INFORMED AND SENSITIZED PEOPLE - TOTAL              0\n",
       "NO OF INFORMED AND SENSITIZED PEOPLE - MEN                0\n",
       "NO OF INFORMED AND SENSITIZED PEOPLE - WOMEN              0\n",
       "NO OF INFORMED AND SENSITIZED PEOPLE - 0_5 - TOTAL        0\n",
       "NO OF INFORMED AND SENSITIZED PEOPLE - 0_5 - MEN          0\n",
       "NO OF INFORMED AND SENSITIZED PEOPLE - 0_5 - WOMEN        0\n",
       "NO OF INFORMED AND SENSITIZED PEOPLE - 6_11 - TOTAL       0\n",
       "NO OF INFORMED AND SENSITIZED PEOPLE - 6_11 - MEN         0\n",
       "NO OF INFORMED AND SENSITIZED PEOPLE - 6_11 - WOMEN       0\n",
       "NO OF INFORMED AND SENSITIZED PEOPLE - 12_17 - TOTAL      0\n",
       "NO OF INFORMED AND SENSITIZED PEOPLE - 12_17 - MEN        0\n",
       "NO OF INFORMED AND SENSITIZED PEOPLE - 12_17 - WOMEN      0\n",
       "NO OF INFORMED AND SENSITIZED PEOPLE - 18_29 - TOTAL      0\n",
       "NO OF INFORMED AND SENSITIZED PEOPLE - 18_29 - MEN        0\n",
       "NO OF INFORMED AND SENSITIZED PEOPLE - 18_29 - WOMEN      0\n",
       "NO OF INFORMED AND SENSITIZED PEOPLE - 30_59 - TOTAL      0\n",
       "NO OF INFORMED AND SENSITIZED PEOPLE - 30_59 - MEN        0\n",
       "NO OF INFORMED AND SENSITIZED PEOPLE - 30_59 - WOMEN      0\n",
       "NO OF INFORMED AND SENSITIZED PEOPLE - 60_MORE - TOTAL    0\n",
       "NO OF INFORMED AND SENSITIVE PEOPLE - 60_MORE - MEN       0\n",
       "NO OF INFORMED AND SENSITIZED PEOPLE - 60_MORE - WOMEN    0\n",
       "NO OF PROMOTIONAL PREVENTIVE ACTIONS - TOTAL              0\n",
       "dtype: int64"
      ]
     },
     "execution_count": 48,
     "metadata": {},
     "output_type": "execute_result"
    }
   ],
   "source": [
    "preventive_actions.isna().sum()"
   ]
  },
  {
   "cell_type": "code",
   "execution_count": 49,
   "id": "f5df4b4d",
   "metadata": {},
   "outputs": [],
   "source": [
    "attempted_femicide.to_csv('./lima_data/attempted_femicide.csv')\n",
    "victims_femicide.to_csv('./lima_data/victims_femicide.csv')\n",
    "total_cases_attended.to_csv('./lima_data/total_cases_attended.csv')\n",
    "females_and_family_violance.to_csv('./lima_data/females_and_family_violance.csv')\n",
    "male_aggressors_women_fam.to_csv('./lima_data/male_aggressors_women_fam.csv')\n",
    "preventive_actions.to_csv('./lima_data/preventive_actions.csv')"
   ]
  },
  {
   "cell_type": "code",
   "execution_count": 50,
   "id": "372cb212",
   "metadata": {},
   "outputs": [],
   "source": [
    "females_and_family_violance = females_and_family_violance[females_and_family_violance['DEPARTMENT'].str.contains('lima', case=False)] "
   ]
  },
  {
   "cell_type": "code",
   "execution_count": 51,
   "id": "c13029c6",
   "metadata": {},
   "outputs": [],
   "source": [
    "numeric_columns = females_and_family_violance.select_dtypes(['int64', 'float64']).columns\n",
    "females_and_family_violance[numeric_columns] = females_and_family_violance[numeric_columns].fillna(0)"
   ]
  },
  {
   "cell_type": "code",
   "execution_count": 52,
   "id": "dc742b15",
   "metadata": {},
   "outputs": [],
   "source": [
    "females_and_family_violance.isna().sum()\n",
    "females_and_family_violance.to_csv('./lima_data/females_and_family_violance.csv')\n"
   ]
  }
 ],
 "metadata": {
  "kernelspec": {
   "display_name": "Python 3 (ipykernel)",
   "language": "python",
   "name": "python3"
  },
  "language_info": {
   "codemirror_mode": {
    "name": "ipython",
    "version": 3
   },
   "file_extension": ".py",
   "mimetype": "text/x-python",
   "name": "python",
   "nbconvert_exporter": "python",
   "pygments_lexer": "ipython3",
   "version": "3.11.4"
  }
 },
 "nbformat": 4,
 "nbformat_minor": 5
}
